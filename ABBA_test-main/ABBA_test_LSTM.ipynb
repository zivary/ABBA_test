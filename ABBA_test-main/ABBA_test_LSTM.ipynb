{
 "cells": [
  {
   "cell_type": "markdown",
   "id": "72224af1",
   "metadata": {},
   "source": [
    "# import"
   ]
  },
  {
   "cell_type": "code",
   "execution_count": 1,
   "id": "ccf1c99c",
   "metadata": {
    "ExecuteTime": {
     "end_time": "2023-09-05T13:38:47.002774Z",
     "start_time": "2023-09-05T13:38:45.730326Z"
    }
   },
   "outputs": [
    {
     "name": "stderr",
     "output_type": "stream",
     "text": [
      "/opt/homebrew/Caskroom/miniforge/base/envs/env/lib/python3.8/site-packages/tqdm/auto.py:21: TqdmWarning: IProgress not found. Please update jupyter and ipywidgets. See https://ipywidgets.readthedocs.io/en/stable/user_install.html\n",
      "  from .autonotebook import tqdm as notebook_tqdm\n"
     ]
    }
   ],
   "source": [
    "import pandas as pd\n",
    "import numpy as np\n",
    "import random\n",
    "import os\n",
    "from datetime import datetime\n",
    "import matplotlib.pyplot as plt\n",
    "\n",
    "from sklearn.preprocessing import OneHotEncoder\n",
    "from sklearn.preprocessing import MinMaxScaler\n",
    "\n",
    "import torch\n",
    "import torch.nn as nn\n",
    "# import torch.nn.functional as F # 비선형석 첨가\n",
    "from torch.utils.data import Dataset, DataLoader\n",
    "\n",
    "from tqdm.auto import tqdm\n",
    "\n",
    "\n",
    "from matplotlib import font_manager,rc\n",
    "rc('font', family='AppleGothic')\n",
    "pd.set_option('display.max_columns', None)\n",
    "import warnings\n",
    "warnings.filterwarnings(action='ignore')"
   ]
  },
  {
   "cell_type": "markdown",
   "id": "be40a5c0",
   "metadata": {},
   "source": [
    "# Data 불러오기"
   ]
  },
  {
   "cell_type": "code",
   "execution_count": 2,
   "id": "585dccc0",
   "metadata": {
    "ExecuteTime": {
     "end_time": "2023-09-05T13:38:47.046916Z",
     "start_time": "2023-09-05T13:38:47.004876Z"
    },
    "scrolled": true
   },
   "outputs": [
    {
     "data": {
      "text/html": [
       "<div>\n",
       "<style scoped>\n",
       "    .dataframe tbody tr th:only-of-type {\n",
       "        vertical-align: middle;\n",
       "    }\n",
       "\n",
       "    .dataframe tbody tr th {\n",
       "        vertical-align: top;\n",
       "    }\n",
       "\n",
       "    .dataframe thead th {\n",
       "        text-align: right;\n",
       "    }\n",
       "</style>\n",
       "<table border=\"1\" class=\"dataframe\">\n",
       "  <thead>\n",
       "    <tr style=\"text-align: right;\">\n",
       "      <th></th>\n",
       "      <th>num_date_time</th>\n",
       "      <th>building_number</th>\n",
       "      <th>date_time</th>\n",
       "      <th>temperature</th>\n",
       "      <th>rainfall</th>\n",
       "      <th>windspeed</th>\n",
       "      <th>humidity</th>\n",
       "      <th>year</th>\n",
       "      <th>month</th>\n",
       "      <th>day</th>\n",
       "      <th>hour</th>\n",
       "      <th>day_of_week</th>\n",
       "      <th>day_of_year</th>\n",
       "      <th>WCT</th>\n",
       "      <th>THI</th>\n",
       "      <th>holiday</th>\n",
       "      <th>building_type</th>\n",
       "      <th>total_area</th>\n",
       "      <th>cooling_area</th>\n",
       "      <th>power_consumption</th>\n",
       "    </tr>\n",
       "  </thead>\n",
       "  <tbody>\n",
       "    <tr>\n",
       "      <th>0</th>\n",
       "      <td>1_20220601 00</td>\n",
       "      <td>1</td>\n",
       "      <td>2022-06-01 00:00:00</td>\n",
       "      <td>18.6</td>\n",
       "      <td>0.0</td>\n",
       "      <td>0.9</td>\n",
       "      <td>42.0</td>\n",
       "      <td>2022</td>\n",
       "      <td>6</td>\n",
       "      <td>1</td>\n",
       "      <td>0</td>\n",
       "      <td>2</td>\n",
       "      <td>152</td>\n",
       "      <td>20.584184</td>\n",
       "      <td>49.6576</td>\n",
       "      <td>1</td>\n",
       "      <td>Other_Buildings</td>\n",
       "      <td>110634.00</td>\n",
       "      <td>39570.00</td>\n",
       "      <td>1085.28</td>\n",
       "    </tr>\n",
       "    <tr>\n",
       "      <th>1</th>\n",
       "      <td>1_20220601 01</td>\n",
       "      <td>1</td>\n",
       "      <td>2022-06-01 01:00:00</td>\n",
       "      <td>18.0</td>\n",
       "      <td>0.0</td>\n",
       "      <td>1.1</td>\n",
       "      <td>45.0</td>\n",
       "      <td>2022</td>\n",
       "      <td>6</td>\n",
       "      <td>1</td>\n",
       "      <td>1</td>\n",
       "      <td>2</td>\n",
       "      <td>152</td>\n",
       "      <td>19.846954</td>\n",
       "      <td>47.7625</td>\n",
       "      <td>1</td>\n",
       "      <td>Other_Buildings</td>\n",
       "      <td>110634.00</td>\n",
       "      <td>39570.00</td>\n",
       "      <td>1047.36</td>\n",
       "    </tr>\n",
       "    <tr>\n",
       "      <th>2</th>\n",
       "      <td>1_20220601 02</td>\n",
       "      <td>1</td>\n",
       "      <td>2022-06-01 02:00:00</td>\n",
       "      <td>17.7</td>\n",
       "      <td>0.0</td>\n",
       "      <td>1.5</td>\n",
       "      <td>45.0</td>\n",
       "      <td>2022</td>\n",
       "      <td>6</td>\n",
       "      <td>1</td>\n",
       "      <td>2</td>\n",
       "      <td>2</td>\n",
       "      <td>152</td>\n",
       "      <td>19.317610</td>\n",
       "      <td>47.2225</td>\n",
       "      <td>1</td>\n",
       "      <td>Other_Buildings</td>\n",
       "      <td>110634.00</td>\n",
       "      <td>39570.00</td>\n",
       "      <td>974.88</td>\n",
       "    </tr>\n",
       "    <tr>\n",
       "      <th>3</th>\n",
       "      <td>1_20220601 03</td>\n",
       "      <td>1</td>\n",
       "      <td>2022-06-01 03:00:00</td>\n",
       "      <td>16.7</td>\n",
       "      <td>0.0</td>\n",
       "      <td>1.4</td>\n",
       "      <td>48.0</td>\n",
       "      <td>2022</td>\n",
       "      <td>6</td>\n",
       "      <td>1</td>\n",
       "      <td>3</td>\n",
       "      <td>2</td>\n",
       "      <td>152</td>\n",
       "      <td>18.337658</td>\n",
       "      <td>44.7856</td>\n",
       "      <td>1</td>\n",
       "      <td>Other_Buildings</td>\n",
       "      <td>110634.00</td>\n",
       "      <td>39570.00</td>\n",
       "      <td>953.76</td>\n",
       "    </tr>\n",
       "    <tr>\n",
       "      <th>4</th>\n",
       "      <td>1_20220601 04</td>\n",
       "      <td>1</td>\n",
       "      <td>2022-06-01 04:00:00</td>\n",
       "      <td>18.4</td>\n",
       "      <td>0.0</td>\n",
       "      <td>2.8</td>\n",
       "      <td>43.0</td>\n",
       "      <td>2022</td>\n",
       "      <td>6</td>\n",
       "      <td>1</td>\n",
       "      <td>4</td>\n",
       "      <td>2</td>\n",
       "      <td>152</td>\n",
       "      <td>19.585934</td>\n",
       "      <td>49.0061</td>\n",
       "      <td>1</td>\n",
       "      <td>Other_Buildings</td>\n",
       "      <td>110634.00</td>\n",
       "      <td>39570.00</td>\n",
       "      <td>986.40</td>\n",
       "    </tr>\n",
       "    <tr>\n",
       "      <th>...</th>\n",
       "      <td>...</td>\n",
       "      <td>...</td>\n",
       "      <td>...</td>\n",
       "      <td>...</td>\n",
       "      <td>...</td>\n",
       "      <td>...</td>\n",
       "      <td>...</td>\n",
       "      <td>...</td>\n",
       "      <td>...</td>\n",
       "      <td>...</td>\n",
       "      <td>...</td>\n",
       "      <td>...</td>\n",
       "      <td>...</td>\n",
       "      <td>...</td>\n",
       "      <td>...</td>\n",
       "      <td>...</td>\n",
       "      <td>...</td>\n",
       "      <td>...</td>\n",
       "      <td>...</td>\n",
       "      <td>...</td>\n",
       "    </tr>\n",
       "    <tr>\n",
       "      <th>203995</th>\n",
       "      <td>100_20220824 19</td>\n",
       "      <td>100</td>\n",
       "      <td>2022-08-24 19:00:00</td>\n",
       "      <td>23.1</td>\n",
       "      <td>0.0</td>\n",
       "      <td>0.9</td>\n",
       "      <td>86.0</td>\n",
       "      <td>2022</td>\n",
       "      <td>8</td>\n",
       "      <td>24</td>\n",
       "      <td>19</td>\n",
       "      <td>2</td>\n",
       "      <td>236</td>\n",
       "      <td>25.094857</td>\n",
       "      <td>63.6624</td>\n",
       "      <td>0</td>\n",
       "      <td>Hotel_and_Resort</td>\n",
       "      <td>57497.84</td>\n",
       "      <td>40035.23</td>\n",
       "      <td>881.04</td>\n",
       "    </tr>\n",
       "    <tr>\n",
       "      <th>203996</th>\n",
       "      <td>100_20220824 20</td>\n",
       "      <td>100</td>\n",
       "      <td>2022-08-24 20:00:00</td>\n",
       "      <td>22.4</td>\n",
       "      <td>0.0</td>\n",
       "      <td>1.3</td>\n",
       "      <td>86.0</td>\n",
       "      <td>2022</td>\n",
       "      <td>8</td>\n",
       "      <td>24</td>\n",
       "      <td>20</td>\n",
       "      <td>2</td>\n",
       "      <td>236</td>\n",
       "      <td>24.244918</td>\n",
       "      <td>62.4024</td>\n",
       "      <td>0</td>\n",
       "      <td>Hotel_and_Resort</td>\n",
       "      <td>57497.84</td>\n",
       "      <td>40035.23</td>\n",
       "      <td>798.96</td>\n",
       "    </tr>\n",
       "    <tr>\n",
       "      <th>203997</th>\n",
       "      <td>100_20220824 21</td>\n",
       "      <td>100</td>\n",
       "      <td>2022-08-24 21:00:00</td>\n",
       "      <td>21.3</td>\n",
       "      <td>0.0</td>\n",
       "      <td>1.0</td>\n",
       "      <td>92.0</td>\n",
       "      <td>2022</td>\n",
       "      <td>8</td>\n",
       "      <td>24</td>\n",
       "      <td>21</td>\n",
       "      <td>2</td>\n",
       "      <td>236</td>\n",
       "      <td>23.241700</td>\n",
       "      <td>64.1976</td>\n",
       "      <td>0</td>\n",
       "      <td>Hotel_and_Resort</td>\n",
       "      <td>57497.84</td>\n",
       "      <td>40035.23</td>\n",
       "      <td>825.12</td>\n",
       "    </tr>\n",
       "    <tr>\n",
       "      <th>203998</th>\n",
       "      <td>100_20220824 22</td>\n",
       "      <td>100</td>\n",
       "      <td>2022-08-24 22:00:00</td>\n",
       "      <td>21.0</td>\n",
       "      <td>0.0</td>\n",
       "      <td>0.3</td>\n",
       "      <td>94.0</td>\n",
       "      <td>2022</td>\n",
       "      <td>8</td>\n",
       "      <td>24</td>\n",
       "      <td>22</td>\n",
       "      <td>2</td>\n",
       "      <td>236</td>\n",
       "      <td>23.472275</td>\n",
       "      <td>65.0744</td>\n",
       "      <td>0</td>\n",
       "      <td>Hotel_and_Resort</td>\n",
       "      <td>57497.84</td>\n",
       "      <td>40035.23</td>\n",
       "      <td>640.08</td>\n",
       "    </tr>\n",
       "    <tr>\n",
       "      <th>203999</th>\n",
       "      <td>100_20220824 23</td>\n",
       "      <td>100</td>\n",
       "      <td>2022-08-24 23:00:00</td>\n",
       "      <td>20.7</td>\n",
       "      <td>0.0</td>\n",
       "      <td>0.1</td>\n",
       "      <td>95.0</td>\n",
       "      <td>2022</td>\n",
       "      <td>8</td>\n",
       "      <td>24</td>\n",
       "      <td>23</td>\n",
       "      <td>2</td>\n",
       "      <td>236</td>\n",
       "      <td>23.610869</td>\n",
       "      <td>65.2725</td>\n",
       "      <td>0</td>\n",
       "      <td>Hotel_and_Resort</td>\n",
       "      <td>57497.84</td>\n",
       "      <td>40035.23</td>\n",
       "      <td>540.24</td>\n",
       "    </tr>\n",
       "  </tbody>\n",
       "</table>\n",
       "<p>204000 rows × 20 columns</p>\n",
       "</div>"
      ],
      "text/plain": [
       "          num_date_time  building_number           date_time  temperature  \\\n",
       "0         1_20220601 00                1 2022-06-01 00:00:00         18.6   \n",
       "1         1_20220601 01                1 2022-06-01 01:00:00         18.0   \n",
       "2         1_20220601 02                1 2022-06-01 02:00:00         17.7   \n",
       "3         1_20220601 03                1 2022-06-01 03:00:00         16.7   \n",
       "4         1_20220601 04                1 2022-06-01 04:00:00         18.4   \n",
       "...                 ...              ...                 ...          ...   \n",
       "203995  100_20220824 19              100 2022-08-24 19:00:00         23.1   \n",
       "203996  100_20220824 20              100 2022-08-24 20:00:00         22.4   \n",
       "203997  100_20220824 21              100 2022-08-24 21:00:00         21.3   \n",
       "203998  100_20220824 22              100 2022-08-24 22:00:00         21.0   \n",
       "203999  100_20220824 23              100 2022-08-24 23:00:00         20.7   \n",
       "\n",
       "        rainfall  windspeed  humidity  year  month  day  hour  day_of_week  \\\n",
       "0            0.0        0.9      42.0  2022      6    1     0            2   \n",
       "1            0.0        1.1      45.0  2022      6    1     1            2   \n",
       "2            0.0        1.5      45.0  2022      6    1     2            2   \n",
       "3            0.0        1.4      48.0  2022      6    1     3            2   \n",
       "4            0.0        2.8      43.0  2022      6    1     4            2   \n",
       "...          ...        ...       ...   ...    ...  ...   ...          ...   \n",
       "203995       0.0        0.9      86.0  2022      8   24    19            2   \n",
       "203996       0.0        1.3      86.0  2022      8   24    20            2   \n",
       "203997       0.0        1.0      92.0  2022      8   24    21            2   \n",
       "203998       0.0        0.3      94.0  2022      8   24    22            2   \n",
       "203999       0.0        0.1      95.0  2022      8   24    23            2   \n",
       "\n",
       "        day_of_year        WCT      THI  holiday     building_type  \\\n",
       "0               152  20.584184  49.6576        1   Other_Buildings   \n",
       "1               152  19.846954  47.7625        1   Other_Buildings   \n",
       "2               152  19.317610  47.2225        1   Other_Buildings   \n",
       "3               152  18.337658  44.7856        1   Other_Buildings   \n",
       "4               152  19.585934  49.0061        1   Other_Buildings   \n",
       "...             ...        ...      ...      ...               ...   \n",
       "203995          236  25.094857  63.6624        0  Hotel_and_Resort   \n",
       "203996          236  24.244918  62.4024        0  Hotel_and_Resort   \n",
       "203997          236  23.241700  64.1976        0  Hotel_and_Resort   \n",
       "203998          236  23.472275  65.0744        0  Hotel_and_Resort   \n",
       "203999          236  23.610869  65.2725        0  Hotel_and_Resort   \n",
       "\n",
       "        total_area  cooling_area  power_consumption  \n",
       "0        110634.00      39570.00            1085.28  \n",
       "1        110634.00      39570.00            1047.36  \n",
       "2        110634.00      39570.00             974.88  \n",
       "3        110634.00      39570.00             953.76  \n",
       "4        110634.00      39570.00             986.40  \n",
       "...            ...           ...                ...  \n",
       "203995    57497.84      40035.23             881.04  \n",
       "203996    57497.84      40035.23             798.96  \n",
       "203997    57497.84      40035.23             825.12  \n",
       "203998    57497.84      40035.23             640.08  \n",
       "203999    57497.84      40035.23             540.24  \n",
       "\n",
       "[204000 rows x 20 columns]"
      ]
     },
     "metadata": {},
     "output_type": "display_data"
    },
    {
     "data": {
      "text/html": [
       "<div>\n",
       "<style scoped>\n",
       "    .dataframe tbody tr th:only-of-type {\n",
       "        vertical-align: middle;\n",
       "    }\n",
       "\n",
       "    .dataframe tbody tr th {\n",
       "        vertical-align: top;\n",
       "    }\n",
       "\n",
       "    .dataframe thead th {\n",
       "        text-align: right;\n",
       "    }\n",
       "</style>\n",
       "<table border=\"1\" class=\"dataframe\">\n",
       "  <thead>\n",
       "    <tr style=\"text-align: right;\">\n",
       "      <th></th>\n",
       "      <th>num_date_time</th>\n",
       "      <th>building_number</th>\n",
       "      <th>date_time</th>\n",
       "      <th>temperature</th>\n",
       "      <th>rainfall</th>\n",
       "      <th>windspeed</th>\n",
       "      <th>humidity</th>\n",
       "      <th>year</th>\n",
       "      <th>month</th>\n",
       "      <th>day</th>\n",
       "      <th>hour</th>\n",
       "      <th>day_of_week</th>\n",
       "      <th>day_of_year</th>\n",
       "      <th>WCT</th>\n",
       "      <th>THI</th>\n",
       "      <th>holiday</th>\n",
       "      <th>building_type</th>\n",
       "      <th>total_area</th>\n",
       "      <th>cooling_area</th>\n",
       "    </tr>\n",
       "  </thead>\n",
       "  <tbody>\n",
       "    <tr>\n",
       "      <th>0</th>\n",
       "      <td>1_20220825 00</td>\n",
       "      <td>1</td>\n",
       "      <td>2022-08-25 00:00:00</td>\n",
       "      <td>23.5</td>\n",
       "      <td>0.0</td>\n",
       "      <td>2.2</td>\n",
       "      <td>72</td>\n",
       "      <td>2022</td>\n",
       "      <td>8</td>\n",
       "      <td>25</td>\n",
       "      <td>0</td>\n",
       "      <td>3</td>\n",
       "      <td>237</td>\n",
       "      <td>25.185563</td>\n",
       "      <td>58.3456</td>\n",
       "      <td>0</td>\n",
       "      <td>Other_Buildings</td>\n",
       "      <td>110634.00</td>\n",
       "      <td>39570.00</td>\n",
       "    </tr>\n",
       "    <tr>\n",
       "      <th>1</th>\n",
       "      <td>1_20220825 01</td>\n",
       "      <td>1</td>\n",
       "      <td>2022-08-25 01:00:00</td>\n",
       "      <td>23.0</td>\n",
       "      <td>0.0</td>\n",
       "      <td>0.9</td>\n",
       "      <td>72</td>\n",
       "      <td>2022</td>\n",
       "      <td>8</td>\n",
       "      <td>25</td>\n",
       "      <td>1</td>\n",
       "      <td>3</td>\n",
       "      <td>237</td>\n",
       "      <td>24.994620</td>\n",
       "      <td>57.4456</td>\n",
       "      <td>0</td>\n",
       "      <td>Other_Buildings</td>\n",
       "      <td>110634.00</td>\n",
       "      <td>39570.00</td>\n",
       "    </tr>\n",
       "    <tr>\n",
       "      <th>2</th>\n",
       "      <td>1_20220825 02</td>\n",
       "      <td>1</td>\n",
       "      <td>2022-08-25 02:00:00</td>\n",
       "      <td>22.7</td>\n",
       "      <td>0.0</td>\n",
       "      <td>1.5</td>\n",
       "      <td>75</td>\n",
       "      <td>2022</td>\n",
       "      <td>8</td>\n",
       "      <td>25</td>\n",
       "      <td>2</td>\n",
       "      <td>3</td>\n",
       "      <td>237</td>\n",
       "      <td>24.495488</td>\n",
       "      <td>57.8725</td>\n",
       "      <td>0</td>\n",
       "      <td>Other_Buildings</td>\n",
       "      <td>110634.00</td>\n",
       "      <td>39570.00</td>\n",
       "    </tr>\n",
       "    <tr>\n",
       "      <th>3</th>\n",
       "      <td>1_20220825 03</td>\n",
       "      <td>1</td>\n",
       "      <td>2022-08-25 03:00:00</td>\n",
       "      <td>22.1</td>\n",
       "      <td>0.0</td>\n",
       "      <td>1.3</td>\n",
       "      <td>78</td>\n",
       "      <td>2022</td>\n",
       "      <td>8</td>\n",
       "      <td>25</td>\n",
       "      <td>3</td>\n",
       "      <td>3</td>\n",
       "      <td>237</td>\n",
       "      <td>23.937118</td>\n",
       "      <td>57.9376</td>\n",
       "      <td>0</td>\n",
       "      <td>Other_Buildings</td>\n",
       "      <td>110634.00</td>\n",
       "      <td>39570.00</td>\n",
       "    </tr>\n",
       "    <tr>\n",
       "      <th>4</th>\n",
       "      <td>1_20220825 04</td>\n",
       "      <td>1</td>\n",
       "      <td>2022-08-25 04:00:00</td>\n",
       "      <td>21.8</td>\n",
       "      <td>0.0</td>\n",
       "      <td>1.0</td>\n",
       "      <td>77</td>\n",
       "      <td>2022</td>\n",
       "      <td>8</td>\n",
       "      <td>25</td>\n",
       "      <td>4</td>\n",
       "      <td>3</td>\n",
       "      <td>237</td>\n",
       "      <td>23.746200</td>\n",
       "      <td>56.9961</td>\n",
       "      <td>0</td>\n",
       "      <td>Other_Buildings</td>\n",
       "      <td>110634.00</td>\n",
       "      <td>39570.00</td>\n",
       "    </tr>\n",
       "    <tr>\n",
       "      <th>...</th>\n",
       "      <td>...</td>\n",
       "      <td>...</td>\n",
       "      <td>...</td>\n",
       "      <td>...</td>\n",
       "      <td>...</td>\n",
       "      <td>...</td>\n",
       "      <td>...</td>\n",
       "      <td>...</td>\n",
       "      <td>...</td>\n",
       "      <td>...</td>\n",
       "      <td>...</td>\n",
       "      <td>...</td>\n",
       "      <td>...</td>\n",
       "      <td>...</td>\n",
       "      <td>...</td>\n",
       "      <td>...</td>\n",
       "      <td>...</td>\n",
       "      <td>...</td>\n",
       "      <td>...</td>\n",
       "    </tr>\n",
       "    <tr>\n",
       "      <th>16795</th>\n",
       "      <td>100_20220831 19</td>\n",
       "      <td>100</td>\n",
       "      <td>2022-08-31 19:00:00</td>\n",
       "      <td>22.5</td>\n",
       "      <td>0.0</td>\n",
       "      <td>0.9</td>\n",
       "      <td>84</td>\n",
       "      <td>2022</td>\n",
       "      <td>8</td>\n",
       "      <td>31</td>\n",
       "      <td>19</td>\n",
       "      <td>2</td>\n",
       "      <td>243</td>\n",
       "      <td>24.493434</td>\n",
       "      <td>61.4824</td>\n",
       "      <td>0</td>\n",
       "      <td>Hotel_and_Resort</td>\n",
       "      <td>57497.84</td>\n",
       "      <td>40035.23</td>\n",
       "    </tr>\n",
       "    <tr>\n",
       "      <th>16796</th>\n",
       "      <td>100_20220831 20</td>\n",
       "      <td>100</td>\n",
       "      <td>2022-08-31 20:00:00</td>\n",
       "      <td>20.7</td>\n",
       "      <td>0.0</td>\n",
       "      <td>0.4</td>\n",
       "      <td>95</td>\n",
       "      <td>2022</td>\n",
       "      <td>8</td>\n",
       "      <td>31</td>\n",
       "      <td>20</td>\n",
       "      <td>2</td>\n",
       "      <td>243</td>\n",
       "      <td>23.067551</td>\n",
       "      <td>65.2725</td>\n",
       "      <td>0</td>\n",
       "      <td>Hotel_and_Resort</td>\n",
       "      <td>57497.84</td>\n",
       "      <td>40035.23</td>\n",
       "    </tr>\n",
       "    <tr>\n",
       "      <th>16797</th>\n",
       "      <td>100_20220831 21</td>\n",
       "      <td>100</td>\n",
       "      <td>2022-08-31 21:00:00</td>\n",
       "      <td>20.2</td>\n",
       "      <td>0.0</td>\n",
       "      <td>0.4</td>\n",
       "      <td>98</td>\n",
       "      <td>2022</td>\n",
       "      <td>8</td>\n",
       "      <td>31</td>\n",
       "      <td>21</td>\n",
       "      <td>2</td>\n",
       "      <td>243</td>\n",
       "      <td>22.590086</td>\n",
       "      <td>66.7056</td>\n",
       "      <td>0</td>\n",
       "      <td>Hotel_and_Resort</td>\n",
       "      <td>57497.84</td>\n",
       "      <td>40035.23</td>\n",
       "    </tr>\n",
       "    <tr>\n",
       "      <th>16798</th>\n",
       "      <td>100_20220831 22</td>\n",
       "      <td>100</td>\n",
       "      <td>2022-08-31 22:00:00</td>\n",
       "      <td>20.1</td>\n",
       "      <td>0.0</td>\n",
       "      <td>1.1</td>\n",
       "      <td>97</td>\n",
       "      <td>2022</td>\n",
       "      <td>8</td>\n",
       "      <td>31</td>\n",
       "      <td>22</td>\n",
       "      <td>2</td>\n",
       "      <td>243</td>\n",
       "      <td>21.978649</td>\n",
       "      <td>65.7281</td>\n",
       "      <td>0</td>\n",
       "      <td>Hotel_and_Resort</td>\n",
       "      <td>57497.84</td>\n",
       "      <td>40035.23</td>\n",
       "    </tr>\n",
       "    <tr>\n",
       "      <th>16799</th>\n",
       "      <td>100_20220831 23</td>\n",
       "      <td>100</td>\n",
       "      <td>2022-08-31 23:00:00</td>\n",
       "      <td>19.1</td>\n",
       "      <td>0.0</td>\n",
       "      <td>0.1</td>\n",
       "      <td>99</td>\n",
       "      <td>2022</td>\n",
       "      <td>8</td>\n",
       "      <td>31</td>\n",
       "      <td>23</td>\n",
       "      <td>2</td>\n",
       "      <td>243</td>\n",
       "      <td>22.191972</td>\n",
       "      <td>65.5429</td>\n",
       "      <td>0</td>\n",
       "      <td>Hotel_and_Resort</td>\n",
       "      <td>57497.84</td>\n",
       "      <td>40035.23</td>\n",
       "    </tr>\n",
       "  </tbody>\n",
       "</table>\n",
       "<p>16800 rows × 19 columns</p>\n",
       "</div>"
      ],
      "text/plain": [
       "         num_date_time  building_number           date_time  temperature  \\\n",
       "0        1_20220825 00                1 2022-08-25 00:00:00         23.5   \n",
       "1        1_20220825 01                1 2022-08-25 01:00:00         23.0   \n",
       "2        1_20220825 02                1 2022-08-25 02:00:00         22.7   \n",
       "3        1_20220825 03                1 2022-08-25 03:00:00         22.1   \n",
       "4        1_20220825 04                1 2022-08-25 04:00:00         21.8   \n",
       "...                ...              ...                 ...          ...   \n",
       "16795  100_20220831 19              100 2022-08-31 19:00:00         22.5   \n",
       "16796  100_20220831 20              100 2022-08-31 20:00:00         20.7   \n",
       "16797  100_20220831 21              100 2022-08-31 21:00:00         20.2   \n",
       "16798  100_20220831 22              100 2022-08-31 22:00:00         20.1   \n",
       "16799  100_20220831 23              100 2022-08-31 23:00:00         19.1   \n",
       "\n",
       "       rainfall  windspeed  humidity  year  month  day  hour  day_of_week  \\\n",
       "0           0.0        2.2        72  2022      8   25     0            3   \n",
       "1           0.0        0.9        72  2022      8   25     1            3   \n",
       "2           0.0        1.5        75  2022      8   25     2            3   \n",
       "3           0.0        1.3        78  2022      8   25     3            3   \n",
       "4           0.0        1.0        77  2022      8   25     4            3   \n",
       "...         ...        ...       ...   ...    ...  ...   ...          ...   \n",
       "16795       0.0        0.9        84  2022      8   31    19            2   \n",
       "16796       0.0        0.4        95  2022      8   31    20            2   \n",
       "16797       0.0        0.4        98  2022      8   31    21            2   \n",
       "16798       0.0        1.1        97  2022      8   31    22            2   \n",
       "16799       0.0        0.1        99  2022      8   31    23            2   \n",
       "\n",
       "       day_of_year        WCT      THI  holiday     building_type  total_area  \\\n",
       "0              237  25.185563  58.3456        0   Other_Buildings   110634.00   \n",
       "1              237  24.994620  57.4456        0   Other_Buildings   110634.00   \n",
       "2              237  24.495488  57.8725        0   Other_Buildings   110634.00   \n",
       "3              237  23.937118  57.9376        0   Other_Buildings   110634.00   \n",
       "4              237  23.746200  56.9961        0   Other_Buildings   110634.00   \n",
       "...            ...        ...      ...      ...               ...         ...   \n",
       "16795          243  24.493434  61.4824        0  Hotel_and_Resort    57497.84   \n",
       "16796          243  23.067551  65.2725        0  Hotel_and_Resort    57497.84   \n",
       "16797          243  22.590086  66.7056        0  Hotel_and_Resort    57497.84   \n",
       "16798          243  21.978649  65.7281        0  Hotel_and_Resort    57497.84   \n",
       "16799          243  22.191972  65.5429        0  Hotel_and_Resort    57497.84   \n",
       "\n",
       "       cooling_area  \n",
       "0          39570.00  \n",
       "1          39570.00  \n",
       "2          39570.00  \n",
       "3          39570.00  \n",
       "4          39570.00  \n",
       "...             ...  \n",
       "16795      40035.23  \n",
       "16796      40035.23  \n",
       "16797      40035.23  \n",
       "16798      40035.23  \n",
       "16799      40035.23  \n",
       "\n",
       "[16800 rows x 19 columns]"
      ]
     },
     "metadata": {},
     "output_type": "display_data"
    }
   ],
   "source": [
    "train_df = pd.read_pickle('./processed_data/train_df_dl.pkl')\n",
    "test_df = pd.read_pickle('./processed_data/test_df_dl.pkl')\n",
    "\n",
    "display(train_df)\n",
    "display(test_df)"
   ]
  },
  {
   "cell_type": "code",
   "execution_count": 3,
   "id": "bdf57234",
   "metadata": {
    "ExecuteTime": {
     "end_time": "2023-09-05T13:38:47.050089Z",
     "start_time": "2023-09-05T13:38:47.047923Z"
    }
   },
   "outputs": [],
   "source": [
    "# train_df[train_df['building_type']=='Public'].groupby('building_number').get_group(64)"
   ]
  },
  {
   "cell_type": "code",
   "execution_count": 4,
   "id": "de48c7fc",
   "metadata": {
    "ExecuteTime": {
     "end_time": "2023-09-05T13:38:47.053080Z",
     "start_time": "2023-09-05T13:38:47.051567Z"
    }
   },
   "outputs": [],
   "source": [
    "# train_df.groupby('building_number').get_group(67)"
   ]
  },
  {
   "cell_type": "markdown",
   "id": "f064a923",
   "metadata": {},
   "source": [
    "# Fixed Random Seed"
   ]
  },
  {
   "cell_type": "code",
   "execution_count": 5,
   "id": "3723e37a",
   "metadata": {
    "ExecuteTime": {
     "end_time": "2023-09-05T13:38:47.058688Z",
     "start_time": "2023-09-05T13:38:47.055618Z"
    }
   },
   "outputs": [],
   "source": [
    "def seed_everything(seed):\n",
    "    random.seed(seed)\n",
    "    os.environ['PYTHONHASHSEED'] = str(seed)\n",
    "    np.random.seed(seed)\n",
    "    torch.manual_seed(seed)\n",
    "#     torch.cuda.manual_seed(seed)\n",
    "#     torch.backends.cudnn.deterministic = True\n",
    "#     torch.backends.cudnn.benchmark = True\n",
    "\n",
    "seed_everything(42) # Seed 고정"
   ]
  },
  {
   "cell_type": "markdown",
   "id": "d287c563",
   "metadata": {},
   "source": [
    "# Hyperparameter Setting"
   ]
  },
  {
   "cell_type": "code",
   "execution_count": 6,
   "id": "03116a62",
   "metadata": {
    "ExecuteTime": {
     "end_time": "2023-09-05T13:38:47.061703Z",
     "start_time": "2023-09-05T13:38:47.059704Z"
    }
   },
   "outputs": [],
   "source": [
    "# 하이퍼파라미터\n",
    "input_size = 23  # feature의 개수\n",
    "hidden_size = 64 # LSTM 레이어의 으닉 상태의 크기\n",
    "num_layers = 2 # 학습 모델을 직렬 배치할 개수\n",
    "output_size = 1 # 결과 값 형태\n",
    "num_epochs = 5 # 학습 횟수\n",
    "window_size = 24  # 예측에 사용될 시간 윈도우 크기, 예측을 위해 이전 몇개의 데이터 포인트를 참고할 것인가, 직전 24시간 데이터를 기반으로 다음 시간을 예측한다.\n",
    "batch_size = 64 # 학습시 한번에 들어가는 input 데이터 개수 24 * 64개 가 한번에 학습 들어간다. batch_size가 커지면 기울기 업데이트 보편적인 학습이되고 업데이트 횟수는 줄어든다. 모델의 일반화 성능이 올라감\n",
    "learning_rate = 0.001 "
   ]
  },
  {
   "cell_type": "markdown",
   "id": "f6bdfdd1",
   "metadata": {},
   "source": [
    "# Dataset"
   ]
  },
  {
   "cell_type": "code",
   "execution_count": 7,
   "id": "9bd13441",
   "metadata": {
    "ExecuteTime": {
     "end_time": "2023-09-05T13:38:47.066768Z",
     "start_time": "2023-09-05T13:38:47.062797Z"
    }
   },
   "outputs": [],
   "source": [
    "class TimeSeriesDataset(Dataset):\n",
    "    def __init__(self, df, window_size):\n",
    "        self.df = df\n",
    "        self.window_size = window_size\n",
    "\n",
    "    def __len__(self): # row의 길이 반환\n",
    "        return len(self.df) - self.window_size\n",
    "\n",
    "    def __getitem__(self, idx): # dataset의 indexing\n",
    "        x = torch.tensor(self.df[idx:idx+self.window_size, :], dtype=torch.float)\n",
    "        if self.df.shape[1] > 1:\n",
    "            y = torch.tensor(self.df[idx+self.window_size, -1], dtype=torch.float)\n",
    "        else:\n",
    "            y = None\n",
    "        return x, y\n",
    "\n",
    "def create_data_loader(df, window_size, batch_size):\n",
    "    dataset = TimeSeriesDataset(df, window_size)\n",
    "    data_loader = DataLoader(dataset, batch_size=batch_size, shuffle=False)\n",
    "    return data_loader"
   ]
  },
  {
   "cell_type": "code",
   "execution_count": 8,
   "id": "ef7ce3a9",
   "metadata": {
    "ExecuteTime": {
     "end_time": "2023-09-05T13:38:47.127006Z",
     "start_time": "2023-09-05T13:38:47.067739Z"
    },
    "scrolled": false
   },
   "outputs": [
    {
     "name": "stdout",
     "output_type": "stream",
     "text": [
      "31\n"
     ]
    },
    {
     "data": {
      "text/plain": [
       "(Index(['num_date_time', 'building_number', 'date_time', 'temperature',\n",
       "        'rainfall', 'windspeed', 'humidity', 'year', 'month', 'day', 'hour',\n",
       "        'day_of_week', 'day_of_year', 'WCT', 'THI', 'holiday', 'total_area',\n",
       "        'cooling_area', 'building_type_Apartment', 'building_type_Commercial',\n",
       "        'building_type_Data_Center',\n",
       "        'building_type_Department_Store_and_Outlet',\n",
       "        'building_type_Discount_Mart', 'building_type_Hospital',\n",
       "        'building_type_Hotel_and_Resort',\n",
       "        'building_type_Knowledge_Industry_Center',\n",
       "        'building_type_Other_Buildings', 'building_type_Public',\n",
       "        'building_type_Research_Institute', 'building_type_University',\n",
       "        'power_consumption'],\n",
       "       dtype='object'),\n",
       " Index(['num_date_time', 'building_number', 'date_time', 'temperature',\n",
       "        'rainfall', 'windspeed', 'humidity', 'year', 'month', 'day', 'hour',\n",
       "        'day_of_week', 'day_of_year', 'WCT', 'THI', 'holiday', 'total_area',\n",
       "        'cooling_area', 'building_type_Apartment', 'building_type_Commercial',\n",
       "        'building_type_Data_Center',\n",
       "        'building_type_Department_Store_and_Outlet',\n",
       "        'building_type_Discount_Mart', 'building_type_Hospital',\n",
       "        'building_type_Hotel_and_Resort',\n",
       "        'building_type_Knowledge_Industry_Center',\n",
       "        'building_type_Other_Buildings', 'building_type_Public',\n",
       "        'building_type_Research_Institute', 'building_type_University'],\n",
       "       dtype='object'))"
      ]
     },
     "execution_count": 8,
     "metadata": {},
     "output_type": "execute_result"
    }
   ],
   "source": [
    "# building_type 컬럼과 day_of_week 컬럼 원-핫 인코딩\n",
    "\n",
    "# building_type용 OneHotEncoder 객체 생성\n",
    "encoder = OneHotEncoder()\n",
    "\n",
    "# building_type 컬럼을 원-핫 인코딩\n",
    "encoded_data_train = encoder.fit_transform(train_df[['building_type']])\n",
    "encoded_data_test = encoder.transform(test_df[['building_type']])\n",
    "\n",
    "# 인코딩 결과를 데이터프레임으로 변환\n",
    "df_encoded_train = pd.DataFrame(encoded_data_train.toarray(), columns=encoder.get_feature_names_out(['building_type']))\n",
    "df_encoded_test = pd.DataFrame(encoded_data_test.toarray(), columns=encoder.get_feature_names_out(['building_type']))\n",
    "\n",
    "train_df = pd.concat([train_df, df_encoded_train],axis=1)\n",
    "test_df = pd.concat([test_df, df_encoded_test],axis=1)\n",
    "# 기존 컬럼 drop\n",
    "train_df = train_df.drop(columns=['building_type'])\n",
    "test_df = test_df.drop(columns=['building_type'])\n",
    "\n",
    "# # day_of_week용 OneHotEncoder 객체 생성\n",
    "# encoder = OneHotEncoder()\n",
    "\n",
    "# # day_of_week 컬럼을 원-핫 인코딩\n",
    "# encoded_data_train = encoder.fit_transform(train_df[['day_of_week']])\n",
    "# encoded_data_test = encoder.transform(test_df[['day_of_week']])\n",
    "\n",
    "# # 인코딩 결과를 데이터프레임으로 변환\n",
    "# df_encoded_train = pd.DataFrame(encoded_data_train.toarray(), columns=encoder.get_feature_names_out(['day_of_week']))\n",
    "# df_encoded_test = pd.DataFrame(encoded_data_test.toarray(), columns=encoder.get_feature_names_out(['day_of_week']))\n",
    "\n",
    "# # 인코딩 결과를 데이터에 추가\n",
    "# train_df = pd.concat([train_df, df_encoded_train],axis=1)\n",
    "# test_df = pd.concat([test_df, df_encoded_test],axis=1)\n",
    "\n",
    "# # 기존 컬럼 drop\n",
    "# train_df = train_df.drop(columns=['day_of_week'])\n",
    "# test_df = test_df.drop(columns=['day_of_week'])\n",
    "\n",
    "temp = train_df.pop('power_consumption')\n",
    "train_df['power_consumption'] = temp\n",
    "\n",
    "print(len(train_df.columns))\n",
    "train_df.columns, test_df.columns"
   ]
  },
  {
   "cell_type": "code",
   "execution_count": 9,
   "id": "9a172b5b",
   "metadata": {
    "ExecuteTime": {
     "end_time": "2023-09-05T13:38:47.150504Z",
     "start_time": "2023-09-05T13:38:47.128164Z"
    }
   },
   "outputs": [],
   "source": [
    "# normalization\n",
    "scaler = MinMaxScaler()\n",
    "train_data = scaler.fit_transform(train_df.drop(['num_date_time', 'building_number', 'date_time', 'year', 'month', 'day', 'hour', 'day_of_year'], axis=1).values)\n",
    "train_loader = create_data_loader(train_data, window_size, batch_size)"
   ]
  },
  {
   "cell_type": "markdown",
   "id": "6c63ab72",
   "metadata": {},
   "source": [
    "# Model Define"
   ]
  },
  {
   "cell_type": "code",
   "execution_count": 10,
   "id": "8bee11ab",
   "metadata": {
    "ExecuteTime": {
     "end_time": "2023-09-05T13:38:47.154455Z",
     "start_time": "2023-09-05T13:38:47.151335Z"
    }
   },
   "outputs": [],
   "source": [
    "class LSTM(nn.Module):\n",
    "    def __init__(self, input_size, hidden_size, num_layers, output_size):\n",
    "        super(LSTM, self).__init__()\n",
    "\n",
    "        self.hidden_size = hidden_size\n",
    "        self.num_layers = num_layers\n",
    "\n",
    "        self.lstm = nn.LSTM(input_size, hidden_size, num_layers, batch_first=True)\n",
    "        self.fc = nn.Linear(hidden_size, output_size)\n",
    "        \n",
    "\n",
    "    def forward(self, x):\n",
    "        h0 = torch.zeros(self.num_layers, x.size(0), self.hidden_size).to(x.device) \n",
    "        c0 = torch.zeros(self.num_layers, x.size(0), self.hidden_size).to(x.device)\n",
    "\n",
    "        out, _ = self.lstm(x, (h0, c0)) # h : 은닉상태, c: 메모리셀 기억층(네부에서만 사용), # - 는 히드 스테이트 나오는거\n",
    "        out = self.fc(out[:, -1, :]) \n",
    "        \n",
    "        return out"
   ]
  },
  {
   "cell_type": "code",
   "execution_count": 11,
   "id": "d641ad55",
   "metadata": {
    "ExecuteTime": {
     "end_time": "2023-09-05T13:38:47.173495Z",
     "start_time": "2023-09-05T13:38:47.155650Z"
    }
   },
   "outputs": [
    {
     "name": "stdout",
     "output_type": "stream",
     "text": [
      "current device: mps:0\n"
     ]
    }
   ],
   "source": [
    "# 맥 실리콘 사용을 위한 디바이스 이동\n",
    "device = torch.device('mps:0' if torch.backends.mps.is_available() else 'cpu')\n",
    "print(f\"current device: {device}\")\n",
    "\n",
    "model = LSTM(input_size, hidden_size, num_layers, output_size).to(device)\n",
    "\n",
    "criterion = nn.MSELoss()\n",
    "optimizer = torch.optim.Adam(model.parameters(), lr=learning_rate) # 최적화 방식"
   ]
  },
  {
   "cell_type": "markdown",
   "id": "cce98be6",
   "metadata": {},
   "source": [
    "# Train"
   ]
  },
  {
   "cell_type": "code",
   "execution_count": 12,
   "id": "1686c4f2",
   "metadata": {
    "ExecuteTime": {
     "end_time": "2023-09-05T13:40:38.203721Z",
     "start_time": "2023-09-05T13:38:47.174463Z"
    },
    "scrolled": true
   },
   "outputs": [
    {
     "name": "stdout",
     "output_type": "stream",
     "text": [
      "Epoch [1/5], Step [1000/3188], Loss: 0.0039\n",
      "Epoch [1/5], Step [2000/3188], Loss: 0.0001\n",
      "Epoch [1/5], Step [3000/3188], Loss: 0.0037\n",
      "Epoch [2/5], Step [1000/3188], Loss: 0.0368\n",
      "Epoch [2/5], Step [2000/3188], Loss: 0.0001\n",
      "Epoch [2/5], Step [3000/3188], Loss: 0.0034\n",
      "Epoch [3/5], Step [1000/3188], Loss: 0.0009\n",
      "Epoch [3/5], Step [2000/3188], Loss: 0.0001\n",
      "Epoch [3/5], Step [3000/3188], Loss: 0.0027\n",
      "Epoch [4/5], Step [1000/3188], Loss: 0.0051\n",
      "Epoch [4/5], Step [2000/3188], Loss: 0.0001\n",
      "Epoch [4/5], Step [3000/3188], Loss: 0.0010\n",
      "Epoch [5/5], Step [1000/3188], Loss: 0.0006\n",
      "Epoch [5/5], Step [2000/3188], Loss: 0.0000\n",
      "Epoch [5/5], Step [3000/3188], Loss: 0.0008\n",
      "==================== 학습 완료 ====================\n"
     ]
    }
   ],
   "source": [
    "for epoch in range(num_epochs):\n",
    "    for i, (inputs, labels) in enumerate(train_loader):\n",
    "        inputs = inputs.to(device)\n",
    "        labels = labels.unsqueeze(1).to(device)\n",
    "\n",
    "        # Forward\n",
    "        outputs = model(inputs)\n",
    "        loss = criterion(outputs, labels)\n",
    "\n",
    "        # Backward and optimize\n",
    "        optimizer.zero_grad()\n",
    "        loss.backward()\n",
    "        optimizer.step()\n",
    "\n",
    "        if (i+1) % 1000 == 0:\n",
    "            print ('Epoch [{}/{}], Step [{}/{}], Loss: {:.4f}' \n",
    "                   .format(epoch+1, num_epochs, i+1, len(train_loader), loss.item()))\n",
    "            \n",
    "print('==================== 학습 완료 ====================')"
   ]
  },
  {
   "cell_type": "markdown",
   "id": "4455dbd1",
   "metadata": {},
   "source": [
    "# Test Data Pre-processing"
   ]
  },
  {
   "cell_type": "code",
   "execution_count": 13,
   "id": "1fb73715",
   "metadata": {
    "ExecuteTime": {
     "end_time": "2023-09-05T13:40:38.215173Z",
     "start_time": "2023-09-05T13:40:38.204580Z"
    }
   },
   "outputs": [],
   "source": [
    "# 학습 데이터에서 마지막 행 가져오기\n",
    "last_train_data = train_df.drop(['num_date_time', 'building_number', 'date_time', 'year', 'month', 'day', 'hour', 'day_of_year'], axis=1).loc[204000-24:,:]\n",
    "\n",
    "# 전력소비량 열 생성\n",
    "final_df = pd.concat((test_df.drop(['num_date_time', 'building_number', 'date_time', 'year', 'month', 'day', 'hour', 'day_of_year'], axis=1), pd.DataFrame(np.zeros(test_df.shape[0]))),axis=1)\n",
    "final_df = final_df.rename({0:'power_consumption'},axis=1)"
   ]
  },
  {
   "cell_type": "markdown",
   "id": "ebd8a952",
   "metadata": {},
   "source": [
    "# Test Dataset"
   ]
  },
  {
   "cell_type": "code",
   "execution_count": 14,
   "id": "fcdbdd69",
   "metadata": {
    "ExecuteTime": {
     "end_time": "2023-09-05T13:40:38.223014Z",
     "start_time": "2023-09-05T13:40:38.217643Z"
    }
   },
   "outputs": [
    {
     "data": {
      "text/plain": [
       "(16824, 23)"
      ]
     },
     "execution_count": 14,
     "metadata": {},
     "output_type": "execute_result"
    }
   ],
   "source": [
    "test_df = pd.concat((last_train_data, final_df)).reset_index(drop=True)\n",
    "test_data = scaler.transform(test_df.values) # train과 동일하게 scaling\n",
    "test_data.shape"
   ]
  },
  {
   "cell_type": "code",
   "execution_count": 15,
   "id": "dabd1f34",
   "metadata": {
    "ExecuteTime": {
     "end_time": "2023-09-05T13:40:38.225486Z",
     "start_time": "2023-09-05T13:40:38.223830Z"
    }
   },
   "outputs": [],
   "source": [
    "# Dataset & DataLoader\n",
    "test_dataset = TimeSeriesDataset(test_data, window_size)\n",
    "test_loader = DataLoader(test_dataset, batch_size=1, shuffle=False)"
   ]
  },
  {
   "cell_type": "markdown",
   "id": "af2307fe",
   "metadata": {},
   "source": [
    "# Inference"
   ]
  },
  {
   "cell_type": "code",
   "execution_count": null,
   "id": "3f4957b5",
   "metadata": {
    "ExecuteTime": {
     "start_time": "2023-09-05T13:38:44.937Z"
    }
   },
   "outputs": [
    {
     "name": "stderr",
     "output_type": "stream",
     "text": [
      "  0%|                                                                     | 30/16800 [00:00<00:57, 291.67it/s]"
     ]
    }
   ],
   "source": [
    "model.eval()\n",
    "\n",
    "test_predictions = []\n",
    "\n",
    "with torch.no_grad():\n",
    "    for i in tqdm(range(test_data.shape[0] - window_size)):\n",
    "        x = torch.Tensor(test_data[i:i+window_size,:]).to(device)\n",
    "        new_x = model(x.view(1,window_size,-1))\n",
    "        \n",
    "        test_data[i+window_size,-1] = new_x # 입력 업데이트\n",
    "        test_predictions.append(new_x.detach().cpu().numpy().item()) # 예측 결과 저장"
   ]
  },
  {
   "cell_type": "markdown",
   "id": "e8e1704d",
   "metadata": {},
   "source": [
    "# Submit"
   ]
  },
  {
   "cell_type": "code",
   "execution_count": null,
   "id": "4d7fc75d",
   "metadata": {
    "ExecuteTime": {
     "start_time": "2023-09-05T13:38:44.938Z"
    }
   },
   "outputs": [],
   "source": [
    "predictions = scaler.inverse_transform(test_data)[24:,-1] # 원래 scale로 복구"
   ]
  },
  {
   "cell_type": "code",
   "execution_count": null,
   "id": "5ec79563",
   "metadata": {
    "ExecuteTime": {
     "start_time": "2023-09-05T13:38:44.939Z"
    }
   },
   "outputs": [],
   "source": [
    "sample_submission = pd.read_csv('./input/sample_submission.csv')"
   ]
  },
  {
   "cell_type": "code",
   "execution_count": null,
   "id": "2c87ad7d",
   "metadata": {
    "ExecuteTime": {
     "start_time": "2023-09-05T13:38:44.940Z"
    }
   },
   "outputs": [],
   "source": [
    "sample_submission['answer'] = predictions\n",
    "sample_submission"
   ]
  },
  {
   "cell_type": "code",
   "execution_count": null,
   "id": "95b20b79",
   "metadata": {
    "ExecuteTime": {
     "start_time": "2023-09-05T13:38:44.940Z"
    }
   },
   "outputs": [],
   "source": [
    "current_time = datetime.now()\n",
    "formatted_time = current_time.strftime(\"%Y%m%d_%H%M%S\")\n",
    "sample_submission.to_csv(f'./result/{formatted_time}_lstm_baseline_submission.csv', index=False)"
   ]
  },
  {
   "attachments": {
    "image-2.png": {
     "image/png": "[encoded data removed]"
    }
   },
   "cell_type": "markdown",
   "id": "d6ec0b37",
   "metadata": {},
   "source": [
    "![image-2.png](attachment:image-2.png)"
   ]
  },
  {
   "cell_type": "markdown",
   "id": "fc47ef8f",
   "metadata": {},
   "source": [
    "# 결과 시각화"
   ]
  },
  {
   "cell_type": "code",
   "execution_count": null,
   "id": "38f4a90e",
   "metadata": {
    "ExecuteTime": {
     "start_time": "2023-09-05T13:38:44.941Z"
    }
   },
   "outputs": [],
   "source": [
    "train_df = pd.read_pickle('./processed_data/train_df_dl.pkl')\n",
    "test_df = pd.read_pickle('./processed_data/test_df_dl.pkl')"
   ]
  },
  {
   "cell_type": "code",
   "execution_count": null,
   "id": "7dcfd0b6",
   "metadata": {
    "ExecuteTime": {
     "start_time": "2023-09-05T13:38:44.942Z"
    },
    "scrolled": true
   },
   "outputs": [],
   "source": [
    "test_df['power_consumption'] = sample_submission['answer']\n",
    "final_df = pd.concat([train_df, test_df])\n",
    "final_df"
   ]
  },
  {
   "cell_type": "code",
   "execution_count": null,
   "id": "565f4f48",
   "metadata": {
    "ExecuteTime": {
     "start_time": "2023-09-05T13:38:44.943Z"
    }
   },
   "outputs": [],
   "source": [
    "일자별_정기사용량_평균 = train_df.groupby('day_of_year').power_consumption.mean()\n",
    "plt.figure(figsize=(10, 3))\n",
    "plt.plot(일자별_정기사용량_평균.index,일자별_정기사용량_평균.values)\n",
    "plt.title('일자별_정기사용량_평균')\n",
    "plt.xlabel('Day of Year')\n",
    "plt.ylabel('일자별_정기사용량_평균(kWh)')\n",
    "plt.show()\n",
    "\n",
    "일자별_정기사용량_평균 = final_df.groupby('day_of_year').power_consumption.mean()\n",
    "plt.figure(figsize=(10, 3))\n",
    "plt.plot(일자별_정기사용량_평균.index,일자별_정기사용량_평균.values)\n",
    "plt.title('일자별_정기사용량_평균')\n",
    "plt.xlabel('Day of Year')\n",
    "plt.ylabel('일자별_정기사용량_평균(kWh)')\n",
    "plt.show()"
   ]
  },
  {
   "cell_type": "code",
   "execution_count": null,
   "id": "90246e2a",
   "metadata": {
    "ExecuteTime": {
     "start_time": "2023-09-05T13:38:44.944Z"
    }
   },
   "outputs": [],
   "source": [
    "# 20번 건물의 연면적, 냉방면적 보정\n",
    "# 요일 정보 One-Hot인코딩\n",
    "# 냉방면적 보정: 아파트, 지식산업센터"
   ]
  }
 ],
 "metadata": {
  "kernelspec": {
   "display_name": "Python 3 (ipykernel)",
   "language": "python",
   "name": "python3"
  },
  "language_info": {
   "codemirror_mode": {
    "name": "ipython",
    "version": 3
   },
   "file_extension": ".py",
   "mimetype": "text/x-python",
   "name": "python",
   "nbconvert_exporter": "python",
   "pygments_lexer": "ipython3",
   "version": "3.8.16"
  },
  "toc": {
   "base_numbering": 1,
   "nav_menu": {},
   "number_sections": true,
   "sideBar": true,
   "skip_h1_title": false,
   "title_cell": "Table of Contents",
   "title_sidebar": "Contents",
   "toc_cell": false,
   "toc_position": {
    "height": "796px",
    "left": "79px",
    "top": "138px",
    "width": "230.551468px"
   },
   "toc_section_display": true,
   "toc_window_display": true
  }
 },
 "nbformat": 4,
 "nbformat_minor": 5
}
