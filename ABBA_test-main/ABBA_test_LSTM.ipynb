{
 "cells": [
  {
   "cell_type": "markdown",
   "id": "72224af1",
   "metadata": {},
   "source": [
    "# import"
   ]
  },
  {
   "cell_type": "code",
   "execution_count": 207,
   "id": "ccf1c99c",
   "metadata": {
    "ExecuteTime": {
     "end_time": "2023-09-04T20:20:29.839158Z",
     "start_time": "2023-09-04T20:20:29.828918Z"
    }
   },
   "outputs": [],
   "source": [
    "import pandas as pd\n",
    "import numpy as np\n",
    "import random\n",
    "import os\n",
    "from datetime import datetime\n",
    "import matplotlib.pyplot as plt\n",
    "\n",
    "from sklearn.preprocessing import OneHotEncoder\n",
    "from sklearn.preprocessing import MinMaxScaler\n",
    "\n",
    "import torch\n",
    "import torch.nn as nn\n",
    "# import torch.nn.functional as F # 비선형석 첨가\n",
    "from torch.utils.data import Dataset, DataLoader\n",
    "\n",
    "from tqdm.auto import tqdm\n",
    "\n",
    "\n",
    "from matplotlib import font_manager,rc\n",
    "rc('font', family='AppleGothic')\n",
    "pd.set_option('display.max_columns', None)\n",
    "import warnings\n",
    "warnings.filterwarnings(action='ignore')"
   ]
  },
  {
   "cell_type": "markdown",
   "id": "be40a5c0",
   "metadata": {},
   "source": [
    "# Data 불러오기"
   ]
  },
  {
   "cell_type": "code",
   "execution_count": 208,
   "id": "585dccc0",
   "metadata": {
    "ExecuteTime": {
     "end_time": "2023-09-04T20:20:29.895209Z",
     "start_time": "2023-09-04T20:20:29.843813Z"
    },
    "scrolled": false
   },
   "outputs": [],
   "source": [
    "train_df = pd.read_pickle('./processed_data/train_df_dl.pkl')\n",
    "test_df = pd.read_pickle('./processed_data/test_df_dl.pkl')\n",
    "\n",
    "display(train_df)\n",
    "display(test_df)"
   ]
  },
  {
   "cell_type": "markdown",
   "id": "f064a923",
   "metadata": {},
   "source": [
    "# Fixed Random Seed"
   ]
  },
  {
   "cell_type": "code",
   "execution_count": 209,
   "id": "3723e37a",
   "metadata": {
    "ExecuteTime": {
     "end_time": "2023-09-04T20:20:29.899738Z",
     "start_time": "2023-09-04T20:20:29.896058Z"
    }
   },
   "outputs": [],
   "source": [
    "def seed_everything(seed):\n",
    "    random.seed(seed)\n",
    "    os.environ['PYTHONHASHSEED'] = str(seed)\n",
    "    np.random.seed(seed)\n",
    "    torch.manual_seed(seed)\n",
    "#     torch.cuda.manual_seed(seed)\n",
    "#     torch.backends.cudnn.deterministic = True\n",
    "#     torch.backends.cudnn.benchmark = True\n",
    "\n",
    "seed_everything(42) # Seed 고정"
   ]
  },
  {
   "cell_type": "markdown",
   "id": "d287c563",
   "metadata": {},
   "source": [
    "# Hyperparameter Setting"
   ]
  },
  {
   "cell_type": "code",
   "execution_count": 210,
   "id": "5e95fecd",
   "metadata": {
    "ExecuteTime": {
     "end_time": "2023-09-04T20:20:29.903286Z",
     "start_time": "2023-09-04T20:20:29.901257Z"
    }
   },
   "outputs": [],
   "source": [
    "# 하이퍼파라미터\n",
    "input_size = 30  # feature의 개수\n",
    "hidden_size = 64 # LSTM 레이어의 으닉 상태의 크기\n",
    "num_layers = 2 # 학습 모델을 직렬 배치할 개수\n",
    "output_size = 1 # 결과 값 형태\n",
    "num_epochs = 5 # 학습 횟수\n",
    "window_size = 24  # 예측에 사용될 시간 윈도우 크기, 예측을 위해 이전 몇개의 데이터 포인트를 참고할 것인가, 직전 24시간 데이터를 기반으로 다음 시간을 예측한다.\n",
    "batch_size = 64 # 학습시 한번에 들어가는 input 데이터 개수 24 * 64개 가 한번에 학습 들어간다. batch_size가 커지면 기울기 업데이트 보편적인 학습이되고 업데이트 횟수는 줄어든다. 모델의 일반화 성능이 올라감\n",
    "learning_rate = 0.001 "
   ]
  },
  {
   "cell_type": "code",
   "execution_count": 211,
   "id": "0cc8cd45",
   "metadata": {
    "ExecuteTime": {
     "end_time": "2023-09-04T20:20:29.905815Z",
     "start_time": "2023-09-04T20:20:29.904179Z"
    }
   },
   "outputs": [],
   "source": [
    "# input_size = len(['temperature', 'windspeed', 'humidity', 'year', 'month', 'day', 'hour', 'day_of_week', 'WCT', 'THI', 'holiday', 'total_area', 'cooling_area',\n",
    "#               'rainfall', 'solar_power_capacity', 'ess_capacity', 'pcs_capacity', 'building_type_Apartment', 'building_type_Commercial', 'building_type_Data_Center',\n",
    "#               'building_type_Department_Store_and_Outlet', 'building_type_Discount_Mart', 'building_type_Hospital', 'building_type_Hotel_and_Resort',\n",
    "#               'building_type_Knowledge_Industry_Center', 'building_type_Other_Buildings', 'building_type_Public', 'building_type_Research_Institute',\n",
    "#               'building_type_University', 'power_consumption'])"
   ]
  },
  {
   "cell_type": "markdown",
   "id": "f6bdfdd1",
   "metadata": {},
   "source": [
    "# Dataset"
   ]
  },
  {
   "cell_type": "code",
   "execution_count": 212,
   "id": "9bd13441",
   "metadata": {
    "ExecuteTime": {
     "end_time": "2023-09-04T20:20:29.909597Z",
     "start_time": "2023-09-04T20:20:29.906649Z"
    }
   },
   "outputs": [],
   "source": [
    "class TimeSeriesDataset(Dataset):\n",
    "    def __init__(self, df, window_size):\n",
    "        self.df = df\n",
    "        self.window_size = window_size\n",
    "\n",
    "    def __len__(self): # row의 길이 반환\n",
    "        return len(self.df) - self.window_size\n",
    "\n",
    "    def __getitem__(self, idx): # dataset의 indexing\n",
    "        x = torch.tensor(self.df[idx:idx+self.window_size, :], dtype=torch.float)\n",
    "        if self.df.shape[1] > 1:\n",
    "            y = torch.tensor(self.df[idx+self.window_size, -1], dtype=torch.float)\n",
    "        else:\n",
    "            y = None\n",
    "        return x, y\n",
    "\n",
    "def create_data_loader(df, window_size, batch_size):\n",
    "    dataset = TimeSeriesDataset(df, window_size)\n",
    "    data_loader = DataLoader(dataset, batch_size=batch_size, shuffle=False)\n",
    "    return data_loader"
   ]
  },
  {
   "cell_type": "code",
   "execution_count": 213,
   "id": "ef7ce3a9",
   "metadata": {
    "ExecuteTime": {
     "end_time": "2023-09-04T20:20:29.965234Z",
     "start_time": "2023-09-04T20:20:29.910354Z"
    },
    "scrolled": false
   },
   "outputs": [],
   "source": [
    "# OneHotEncoder 객체 생성\n",
    "encoder = OneHotEncoder()\n",
    "\n",
    "# '색상' 컬럼을 원-핫 인코딩\n",
    "encoded_data_train = encoder.fit_transform(train_df[['building_type']])\n",
    "encoded_data_test = encoder.transform(test_df[['building_type']])\n",
    "\n",
    "# 인코딩 결과를 데이터프레임으로 변환\n",
    "df_encoded_train = pd.DataFrame(encoded_data_train.toarray(), columns=encoder.get_feature_names_out(['building_type']))\n",
    "df_encoded_test = pd.DataFrame(encoded_data_test.toarray(), columns=encoder.get_feature_names_out(['building_type']))\n",
    "\n",
    "train_df = pd.concat([train_df, df_encoded_train],axis=1)\n",
    "test_df = pd.concat([test_df, df_encoded_test],axis=1)\n",
    "\n",
    "temp = train_df.pop('power_consumption')\n",
    "train_df['power_consumption'] = temp\n",
    "train_df = train_df.drop(columns='building_type')\n",
    "test_df = test_df.drop(columns='building_type')\n",
    "\n",
    "train_df.columns, test_df.columns\n"
   ]
  },
  {
   "cell_type": "code",
   "execution_count": 214,
   "id": "9a172b5b",
   "metadata": {
    "ExecuteTime": {
     "end_time": "2023-09-04T20:20:29.992964Z",
     "start_time": "2023-09-04T20:20:29.966349Z"
    }
   },
   "outputs": [],
   "source": [
    "# normalization\n",
    "scaler = MinMaxScaler()\n",
    "train_data = scaler.fit_transform(train_df.drop(['num_date_time', 'building_number', 'date_time', 'day_of_year'], axis=1).values)\n",
    "train_loader = create_data_loader(train_data, window_size, batch_size)"
   ]
  },
  {
   "cell_type": "markdown",
   "id": "6c63ab72",
   "metadata": {},
   "source": [
    "# Model Define"
   ]
  },
  {
   "cell_type": "code",
   "execution_count": 215,
   "id": "8bee11ab",
   "metadata": {
    "ExecuteTime": {
     "end_time": "2023-09-04T20:20:29.997054Z",
     "start_time": "2023-09-04T20:20:29.994292Z"
    }
   },
   "outputs": [],
   "source": [
    "class LSTM(nn.Module):\n",
    "    def __init__(self, input_size, hidden_size, num_layers, output_size):\n",
    "        super(LSTM, self).__init__()\n",
    "\n",
    "        self.hidden_size = hidden_size\n",
    "        self.num_layers = num_layers\n",
    "\n",
    "        self.lstm = nn.LSTM(input_size, hidden_size, num_layers, batch_first=True)\n",
    "        self.fc = nn.Linear(hidden_size, output_size)\n",
    "        \n",
    "\n",
    "    def forward(self, x):\n",
    "        h0 = torch.zeros(self.num_layers, x.size(0), self.hidden_size).to(x.device) \n",
    "        c0 = torch.zeros(self.num_layers, x.size(0), self.hidden_size).to(x.device)\n",
    "\n",
    "        out, _ = self.lstm(x, (h0, c0)) # h : 은닉상태, c: 메모리셀 기억층(네부에서만 사용), # - 는 히드 스테이트 나오는거\n",
    "        out = self.fc(out[:, -1, :]) \n",
    "        \n",
    "        return out"
   ]
  },
  {
   "cell_type": "code",
   "execution_count": 216,
   "id": "d641ad55",
   "metadata": {
    "ExecuteTime": {
     "end_time": "2023-09-04T20:20:30.007605Z",
     "start_time": "2023-09-04T20:20:29.999827Z"
    }
   },
   "outputs": [],
   "source": [
    "# 맥 실리콘 사용을 위한 디바이스 이동\n",
    "device = torch.device('mps:0' if torch.backends.mps.is_available() else 'cpu')\n",
    "print(f\"current device: {device}\")\n",
    "\n",
    "model = LSTM(input_size, hidden_size, num_layers, output_size).to(device)\n",
    "\n",
    "criterion = nn.MSELoss()\n",
    "optimizer = torch.optim.Adam(model.parameters(), lr=learning_rate) # 최적화 방식"
   ]
  },
  {
   "cell_type": "markdown",
   "id": "cce98be6",
   "metadata": {},
   "source": [
    "# Train"
   ]
  },
  {
   "cell_type": "code",
   "execution_count": 217,
   "id": "1686c4f2",
   "metadata": {
    "ExecuteTime": {
     "end_time": "2023-09-04T20:22:24.934813Z",
     "start_time": "2023-09-04T20:20:30.008317Z"
    },
    "scrolled": true
   },
   "outputs": [],
   "source": [
    "for epoch in range(num_epochs):\n",
    "    for i, (inputs, labels) in enumerate(train_loader):\n",
    "        inputs = inputs.to(device)\n",
    "        labels = labels.unsqueeze(1).to(device)\n",
    "\n",
    "        # Forward\n",
    "        outputs = model(inputs)\n",
    "        loss = criterion(outputs, labels)\n",
    "\n",
    "        # Backward and optimize\n",
    "        optimizer.zero_grad()\n",
    "        loss.backward()\n",
    "        optimizer.step()\n",
    "\n",
    "        if (i+1) % 300 == 0:\n",
    "            print ('Epoch [{}/{}], Step [{}/{}], Loss: {:.4f}' \n",
    "                   .format(epoch+1, num_epochs, i+1, len(train_loader), loss.item()))\n",
    "            \n",
    "print('==================== 학습 완료 ====================')"
   ]
  },
  {
   "cell_type": "markdown",
   "id": "4455dbd1",
   "metadata": {},
   "source": [
    "# Test Data Pre-processing"
   ]
  },
  {
   "cell_type": "code",
   "execution_count": 218,
   "id": "1fb73715",
   "metadata": {
    "ExecuteTime": {
     "end_time": "2023-09-04T20:22:24.946891Z",
     "start_time": "2023-09-04T20:22:24.935827Z"
    }
   },
   "outputs": [],
   "source": [
    "# 학습 데이터에서 마지막 행 가져오기\n",
    "last_train_data = train_df.drop(['num_date_time', 'building_number', 'date_time', 'day_of_year'], axis=1).loc[204000-24:,:]\n",
    "\n",
    "# 전력소비량 열 생성\n",
    "final_df = pd.concat((test_df.drop(['num_date_time', 'building_number', 'date_time', 'day_of_year'], axis=1), pd.DataFrame(np.zeros(test_df.shape[0]))),axis=1)\n",
    "final_df = final_df.rename({0:'power_consumption'},axis=1)"
   ]
  },
  {
   "cell_type": "markdown",
   "id": "ebd8a952",
   "metadata": {},
   "source": [
    "# Test Dataset"
   ]
  },
  {
   "cell_type": "code",
   "execution_count": 219,
   "id": "fcdbdd69",
   "metadata": {
    "ExecuteTime": {
     "end_time": "2023-09-04T20:22:24.954932Z",
     "start_time": "2023-09-04T20:22:24.947968Z"
    }
   },
   "outputs": [],
   "source": [
    "test_df = pd.concat((last_train_data, final_df)).reset_index(drop=True)\n",
    "test_data = scaler.transform(test_df.values) # train과 동일하게 scaling\n",
    "test_data.shape"
   ]
  },
  {
   "cell_type": "code",
   "execution_count": 220,
   "id": "dabd1f34",
   "metadata": {
    "ExecuteTime": {
     "end_time": "2023-09-04T20:22:24.957813Z",
     "start_time": "2023-09-04T20:22:24.955785Z"
    }
   },
   "outputs": [],
   "source": [
    "# Dataset & DataLoader\n",
    "test_dataset = TimeSeriesDataset(test_data, window_size)\n",
    "test_loader = DataLoader(test_dataset, batch_size=1, shuffle=False)"
   ]
  },
  {
   "cell_type": "markdown",
   "id": "af2307fe",
   "metadata": {},
   "source": [
    "# Inference"
   ]
  },
  {
   "cell_type": "code",
   "execution_count": null,
   "id": "3f4957b5",
   "metadata": {
    "ExecuteTime": {
     "start_time": "2023-09-04T20:20:29.846Z"
    }
   },
   "outputs": [],
   "source": [
    "model.eval()\n",
    "\n",
    "test_predictions = []\n",
    "\n",
    "with torch.no_grad():\n",
    "    for i in tqdm(range(test_data.shape[0] - window_size)):\n",
    "        x = torch.Tensor(test_data[i:i+window_size,:]).to(device)\n",
    "        new_x = model(x.view(1,window_size,-1))\n",
    "        \n",
    "        test_data[i+window_size,-1] = new_x # 입력 업데이트\n",
    "        test_predictions.append(new_x.detach().cpu().numpy().item()) # 예측 결과 저장"
   ]
  },
  {
   "cell_type": "markdown",
   "id": "e8e1704d",
   "metadata": {},
   "source": [
    "# Submit"
   ]
  },
  {
   "cell_type": "code",
   "execution_count": null,
   "id": "4d7fc75d",
   "metadata": {
    "ExecuteTime": {
     "start_time": "2023-09-04T20:20:29.847Z"
    }
   },
   "outputs": [],
   "source": [
    "predictions = scaler.inverse_transform(test_data)[24:,-1] # 원래 scale로 복구"
   ]
  },
  {
   "cell_type": "code",
   "execution_count": null,
   "id": "5ec79563",
   "metadata": {
    "ExecuteTime": {
     "start_time": "2023-09-04T20:20:29.848Z"
    }
   },
   "outputs": [],
   "source": [
    "sample_submission = pd.read_csv('./input/sample_submission.csv')"
   ]
  },
  {
   "cell_type": "code",
   "execution_count": null,
   "id": "2c87ad7d",
   "metadata": {
    "ExecuteTime": {
     "start_time": "2023-09-04T20:20:29.849Z"
    }
   },
   "outputs": [],
   "source": [
    "sample_submission['answer'] = predictions\n",
    "sample_submission.head()"
   ]
  },
  {
   "cell_type": "code",
   "execution_count": null,
   "id": "95b20b79",
   "metadata": {
    "ExecuteTime": {
     "start_time": "2023-09-04T20:20:29.850Z"
    }
   },
   "outputs": [],
   "source": [
    "current_time = datetime.now()\n",
    "formatted_time = current_time.strftime(\"%Y%m%d_%H%M%S\")\n",
    "sample_submission.to_csv(f'./result/{formatted_time}_lstm_baseline_submission.csv', index=False)"
   ]
  },
  {
   "attachments": {
    "image.png": {
     "image/png": "[encoded data removed]"
    }
   },
   "cell_type": "markdown",
   "id": "d6ec0b37",
   "metadata": {},
   "source": [
    "![image.png](attachment:image.png)"
   ]
  },
  {
   "cell_type": "markdown",
   "id": "8681c5d0",
   "metadata": {},
   "source": [
    "# 결과 시각화"
   ]
  },
  {
   "cell_type": "code",
   "execution_count": null,
   "id": "38f4a90e",
   "metadata": {
    "ExecuteTime": {
     "start_time": "2023-09-04T20:20:29.851Z"
    }
   },
   "outputs": [],
   "source": [
    "train_df = pd.read_pickle('./processed_data/train_df_dl.pkl')\n",
    "test_df = pd.read_pickle('./processed_data/test_df_dl.pkl')"
   ]
  },
  {
   "cell_type": "code",
   "execution_count": null,
   "id": "7dcfd0b6",
   "metadata": {
    "ExecuteTime": {
     "start_time": "2023-09-04T20:20:29.853Z"
    }
   },
   "outputs": [],
   "source": [
    "test_df['power_consumption'] = sample_submission['answer']\n",
    "final_df = pd.concat([train_df, test_df])\n",
    "final_df.reset_index(drop=True)"
   ]
  },
  {
   "cell_type": "code",
   "execution_count": null,
   "id": "61566290",
   "metadata": {
    "ExecuteTime": {
     "start_time": "2023-09-04T20:20:29.854Z"
    }
   },
   "outputs": [],
   "source": [
    "# final_df.groupby('day_of_year').power_consumption.mean().tail(60)"
   ]
  },
  {
   "cell_type": "code",
   "execution_count": null,
   "id": "63081685",
   "metadata": {
    "ExecuteTime": {
     "start_time": "2023-09-04T20:20:29.855Z"
    }
   },
   "outputs": [],
   "source": [
    "모든_건물의_전기사용량_일자별_총합 = final_df.groupby('day_of_year').power_consumption.sum()"
   ]
  },
  {
   "cell_type": "code",
   "execution_count": null,
   "id": "565f4f48",
   "metadata": {
    "ExecuteTime": {
     "start_time": "2023-09-04T20:20:29.855Z"
    }
   },
   "outputs": [],
   "source": [
    "plt.figure(figsize=(10, 6))\n",
    "plt.plot(모든_건물의_전기사용량_일자별_평균.index,모든_건물의_전기사용량_일자별_총합.values)\n",
    "plt.title('날자별_모든_건물의_전기사용량_평균')\n",
    "plt.xlabel('Day of the Year')\n",
    "plt.ylabel('모든_건물의_전기사용량_일자별_평균(kWh)')\n",
    "plt.show()"
   ]
  },
  {
   "cell_type": "code",
   "execution_count": null,
   "id": "2c7e3cae",
   "metadata": {
    "ExecuteTime": {
     "start_time": "2023-09-04T20:20:29.856Z"
    }
   },
   "outputs": [],
   "source": [
    "날자별_ = final_df.groupby(by='day_of_year').power_consumption.mean()\n",
    "\n",
    "plt.figure(figsize=(10, 6))\n",
    "plt.plot(final_df.groupby('day_of_year').power_consumption.mean().index, final_df.power_consumption)\n",
    "plt.title('Mean Power Consumption by Day of the Year')\n",
    "plt.xlabel('Day of the Year')\n",
    "plt.ylabel('모든_건물의_전기사용량_일자별_평균(kWh)')\n",
    "plt.show()\n"
   ]
  },
  {
   "cell_type": "code",
   "execution_count": null,
   "id": "8e946197",
   "metadata": {},
   "outputs": [],
   "source": []
  }
 ],
 "metadata": {
  "kernelspec": {
   "display_name": "Python 3 (ipykernel)",
   "language": "python",
   "name": "python3"
  },
  "language_info": {
   "codemirror_mode": {
    "name": "ipython",
    "version": 3
   },
   "file_extension": ".py",
   "mimetype": "text/x-python",
   "name": "python",
   "nbconvert_exporter": "python",
   "pygments_lexer": "ipython3",
   "version": "3.8.16"
  },
  "toc": {
   "base_numbering": 1,
   "nav_menu": {},
   "number_sections": true,
   "sideBar": true,
   "skip_h1_title": false,
   "title_cell": "Table of Contents",
   "title_sidebar": "Contents",
   "toc_cell": false,
   "toc_position": {
    "height": "796px",
    "left": "79px",
    "top": "138px",
    "width": "230.5625px"
   },
   "toc_section_display": true,
   "toc_window_display": true
  }
 },
 "nbformat": 4,
 "nbformat_minor": 5
}
