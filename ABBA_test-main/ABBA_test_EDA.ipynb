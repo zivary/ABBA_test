{
 "cells": [
  {
   "cell_type": "markdown",
   "id": "d6786288",
   "metadata": {},
   "source": [
    "# ABBA test - 전력 사용량 예측"
   ]
  },
  {
   "cell_type": "markdown",
   "id": "395c0fec",
   "metadata": {},
   "source": [
    "## import"
   ]
  },
  {
   "cell_type": "code",
   "execution_count": 1,
   "id": "69d28301",
   "metadata": {
    "ExecuteTime": {
     "end_time": "2023-09-06T06:34:12.236612Z",
     "start_time": "2023-09-06T06:34:11.476333Z"
    }
   },
   "outputs": [],
   "source": [
    "import numpy as np\n",
    "import pandas as pd\n",
    "import matplotlib.pyplot as plt\n",
    "import seaborn as sns\n",
    "from tqdm.auto import tqdm\n",
    "from datetime import datetime\n",
    "\n",
    "import sys\n",
    "pd.set_option('display.max_columns', None)\n",
    "import warnings\n",
    "warnings.filterwarnings(action='ignore')\n",
    "from matplotlib import font_manager,rc\n",
    "rc('font', family='AppleGothic')"
   ]
  },
  {
   "cell_type": "markdown",
   "id": "6a65bed8",
   "metadata": {},
   "source": [
    "## 데이터"
   ]
  },
  {
   "cell_type": "markdown",
   "id": "25e9dcf7",
   "metadata": {},
   "source": [
    "### 데이터 불러오기"
   ]
  },
  {
   "cell_type": "markdown",
   "id": "e19a953f",
   "metadata": {},
   "source": [
    "#### building_info 데이터 불러오기"
   ]
  },
  {
   "cell_type": "code",
   "execution_count": 2,
   "id": "7580a88b",
   "metadata": {
    "ExecuteTime": {
     "end_time": "2023-09-06T06:34:12.249785Z",
     "start_time": "2023-09-06T06:34:12.237836Z"
    },
    "scrolled": false
   },
   "outputs": [],
   "source": [
    "# building_info 데이터 불러오기\n",
    "building_info = pd.read_csv('input/building_info.csv')\n",
    "display(building_info.head())\n",
    "print(building_info.info())"
   ]
  },
  {
   "cell_type": "markdown",
   "id": "111bedff",
   "metadata": {},
   "source": [
    "#### train_df 데이터 불러오기"
   ]
  },
  {
   "cell_type": "code",
   "execution_count": 3,
   "id": "82fd77d4",
   "metadata": {
    "ExecuteTime": {
     "end_time": "2023-09-06T06:34:12.374999Z",
     "start_time": "2023-09-06T06:34:12.250605Z"
    },
    "scrolled": true
   },
   "outputs": [],
   "source": [
    "# train_df 데이터 불러오기\n",
    "train_df = pd.read_csv('input/train.csv')\n",
    "display(train_df.head())\n",
    "print(train_df.info())"
   ]
  },
  {
   "cell_type": "markdown",
   "id": "50b73aab",
   "metadata": {},
   "source": [
    "#### test_df 데이터 불러오기"
   ]
  },
  {
   "cell_type": "code",
   "execution_count": 4,
   "id": "520ab1fa",
   "metadata": {
    "ExecuteTime": {
     "end_time": "2023-09-06T06:34:12.392732Z",
     "start_time": "2023-09-06T06:34:12.376626Z"
    }
   },
   "outputs": [],
   "source": [
    "# test_df 데이터 불러오기\n",
    "test_df = pd.read_csv('input/test.csv')\n",
    "display(test_df.head())\n",
    "print(test_df.info())"
   ]
  },
  {
   "cell_type": "markdown",
   "id": "18cc4da5",
   "metadata": {},
   "source": [
    "### building info\n",
    "- 100개 건물 정보\n",
    "- 건물 번호, 건물 유형, 연면적, 냉방 면적, 태양광 용량, ESS 저장 용량, PCS 용량"
   ]
  },
  {
   "cell_type": "markdown",
   "id": "1df6c12d",
   "metadata": {},
   "source": [
    "#### column명 변환\n",
    "- building_info의 column명을 편의를 위해 영어로 대체"
   ]
  },
  {
   "cell_type": "code",
   "execution_count": 5,
   "id": "eb6240bf",
   "metadata": {
    "ExecuteTime": {
     "end_time": "2023-09-06T06:34:12.398408Z",
     "start_time": "2023-09-06T06:34:12.393533Z"
    }
   },
   "outputs": [],
   "source": [
    "# building_info의 column명을 편의를 위해 영어로 대체\n",
    "building_info = building_info.rename(columns={\n",
    "    '건물번호': 'building_number',\n",
    "    '건물유형': 'building_type',\n",
    "    '연면적(m2)': 'total_area',\n",
    "    '냉방면적(m2)': 'cooling_area',\n",
    "    '태양광용량(kW)': 'solar_power_capacity',\n",
    "    'ESS저장용량(kWh)': 'ess_capacity',\n",
    "    'PCS용량(kW)': 'pcs_capacity'\n",
    "})\n",
    "\n",
    "building_info.head()"
   ]
  },
  {
   "cell_type": "markdown",
   "id": "2b0b000b",
   "metadata": {},
   "source": [
    "####  building_type 변환\n",
    "- building_info의 building_type column을 편의를 위해 영어로 대체"
   ]
  },
  {
   "cell_type": "code",
   "execution_count": 6,
   "id": "185ee730",
   "metadata": {
    "ExecuteTime": {
     "end_time": "2023-09-06T06:34:12.405192Z",
     "start_time": "2023-09-06T06:34:12.399338Z"
    }
   },
   "outputs": [],
   "source": [
    "# building_info의 building_type column을 편의를 위해 영어로 대체\n",
    "translation_dict = {\n",
    "    '건물기타': 'Other_Buildings',\n",
    "    '공공': 'Public',\n",
    "    '대학교': 'University',\n",
    "    '데이터센터': 'Data_Center',\n",
    "    '백화점및아울렛': 'Department_Store_and_Outlet',\n",
    "    '병원': 'Hospital',\n",
    "    '상용': 'Commercial',\n",
    "    '아파트': 'Apartment',\n",
    "    '연구소': 'Research_Institute',\n",
    "    '지식산업센터': 'Knowledge_Industry_Center',\n",
    "    '할인마트': 'Discount_Mart',\n",
    "    '호텔및리조트': 'Hotel_and_Resort'\n",
    "}\n",
    "building_info['building_type'] = building_info['building_type'].replace(translation_dict)\n",
    "building_info.head()"
   ]
  },
  {
   "cell_type": "markdown",
   "id": "5a5fc789",
   "metadata": {},
   "source": [
    "#### 결측치 처리 \n",
    "- solar_power_capacity, ess_capacity, pcs_capacity 컬럼의 '-' 로 되어있는 결측치를 0으로 바꿔주고 object로 되어있는 type을 float64로 변환"
   ]
  },
  {
   "cell_type": "code",
   "execution_count": 7,
   "id": "96177a45",
   "metadata": {
    "ExecuteTime": {
     "end_time": "2023-09-06T06:34:12.414387Z",
     "start_time": "2023-09-06T06:34:12.406030Z"
    },
    "scrolled": false
   },
   "outputs": [],
   "source": [
    "# solar_power_capacity, ess_capacity, pcs_capacity 컬럼의 '-' 로 되어있는 결측치를 0으로 바꿔주고 object로 되어있는 type을 float64로 변환\n",
    "building_info = building_info.replace('-',0)\n",
    "building_info[['solar_power_capacity','ess_capacity','pcs_capacity']] = building_info[['solar_power_capacity','ess_capacity','pcs_capacity']].astype('float64')\n",
    "display(building_info.head())\n",
    "print(building_info.info())"
   ]
  },
  {
   "cell_type": "markdown",
   "id": "d334a6d7",
   "metadata": {},
   "source": [
    "#### Data Cleaning\n",
    "- total_area와 cooling_area의 최대값의 이상치 여부 확인\n",
    "- cooling_area가 0인 건물의 이상치 확인"
   ]
  },
  {
   "cell_type": "code",
   "execution_count": 8,
   "id": "72571d91",
   "metadata": {
    "ExecuteTime": {
     "end_time": "2023-09-06T06:34:12.418121Z",
     "start_time": "2023-09-06T06:34:12.415271Z"
    }
   },
   "outputs": [],
   "source": [
    "# total_area, cooling_area, humidity의 값들이 정상 범위 내에 있음을 확인\n",
    "for i in ['total_area', 'cooling_area']:\n",
    "    print(f\"{i}의 최대값: {max(building_info[i])}\")\n",
    "    print(f\"{i}의 평균값: {np.mean(building_info[i])}\")\n",
    "    print(f\"{i}의 중위값: {np.median(building_info[i])}\")\n",
    "    print(f\"{i}의 최소값: {min(building_info[i])}\")\n",
    "    print()"
   ]
  },
  {
   "cell_type": "markdown",
   "id": "f1d666e0",
   "metadata": {},
   "source": [
    "#####  Public 20번 건물의 total_area와 cooling_area 보정\n",
    "- Public 20번 건물의 평균 전력소비량은 Public 나머지 건물의 평균 전력 소비량의 120% 수준\n",
    "- 반면 데이터에서 Public 20번 건물의 total_area은 Public 나머지 건물 평균의 약 14350%, cooling_area은 약 21695% \n",
    "- Public 20번 건물의 연면적과 냉방면적을 Public 건물의 평균의 120%로 보정"
   ]
  },
  {
   "cell_type": "code",
   "execution_count": 9,
   "id": "2f86e8bc",
   "metadata": {
    "ExecuteTime": {
     "end_time": "2023-09-06T06:34:12.682533Z",
     "start_time": "2023-09-06T06:34:12.418799Z"
    },
    "scrolled": false
   },
   "outputs": [],
   "source": [
    "# 20번 건물이 다른 건물들에 비해서 너무 큰 total_area와 cooling_area값 확인\n",
    "display(building_info[building_info.building_type=='Public'])\n",
    "\n",
    "plt.figure(figsize=(10, 3))\n",
    "plt.bar(building_info.building_number,building_info.total_area)\n",
    "plt.title('건물 연면적 비교')\n",
    "plt.xlabel('building_number')\n",
    "plt.ylabel('total_area(m2)')\n",
    "plt.show()\n",
    "\n",
    "plt.figure(figsize=(10, 3))\n",
    "plt.bar(building_info.building_number, building_info.cooling_area)\n",
    "plt.title('건물 연면적 비교')\n",
    "plt.xlabel('building_number')\n",
    "plt.ylabel('cooling_area(m2)')\n",
    "plt.show()\n",
    "\n",
    "temp = building_info[building_info['building_type']=='Public']\n",
    "temp_drop_20 = temp.drop(index=19)\n",
    "temp_drop_20.total_area.mean()\n",
    "\n",
    "print(f\"20번 건물을 제외한 Public 건물 연면적 평균: {temp_drop_20['total_area'].mean()} (m2)\")\n",
    "print(f\"20번 건물의 연면적: {temp.loc[19,'total_area']} (m2)\")\n",
    "print(f\"20번 건물의 연면적은 Public 건물 평균의 {(temp.loc[19,'total_area']/temp_drop_20['total_area'].mean())}배 이다.\")\n",
    "print()\n",
    "print(f\"20번 건물을 제외한 Public 건물 냉방면적 평균: {temp_drop_20['cooling_area'].mean()} (m2)\")\n",
    "print(f\"20번 건물의 냉방면적: {temp.loc[19,'cooling_area']} (m2)\")\n",
    "print(f\"20번 건물의 냉방면적은 Public 건물 평균의 {(temp.loc[19,'cooling_area']/temp_drop_20['cooling_area'].mean())}배 이다.\")"
   ]
  },
  {
   "cell_type": "code",
   "execution_count": 10,
   "id": "c8d12a3c",
   "metadata": {
    "ExecuteTime": {
     "end_time": "2023-09-06T06:34:12.901704Z",
     "start_time": "2023-09-06T06:34:12.685116Z"
    }
   },
   "outputs": [],
   "source": [
    "# 값 보정\n",
    "building_info.loc[19,'total_area'] = round(temp_drop_20['total_area'].mean()*1.2, 2)\n",
    "building_info.loc[19,'cooling_area'] = round(temp_drop_20['cooling_area'].mean()*1.2, 2)\n",
    "display(building_info[building_info.building_type=='Public'])\n",
    "\n",
    "plt.figure(figsize=(10, 3))\n",
    "plt.bar(building_info.building_number,building_info.total_area)\n",
    "plt.title('건물 연면적 비교')\n",
    "plt.xlabel('building_number')\n",
    "plt.ylabel('total_area(m2)')\n",
    "plt.show()\n",
    "\n",
    "plt.figure(figsize=(10, 3))\n",
    "plt.bar(building_info.building_number, building_info.cooling_area)\n",
    "plt.title('건물 연면적 비교')\n",
    "plt.xlabel('building_number')\n",
    "plt.ylabel('cooling_area(m2)')\n",
    "plt.show()\n",
    "\n",
    "temp = building_info[building_info['building_type']=='Public']\n",
    "temp_drop_20 = temp.drop(index=19)\n",
    "temp_drop_20.total_area.mean()\n",
    "\n",
    "print(f\"20번 건물을 제외한 Public 건물 연면적 평균: {temp_drop_20['total_area'].mean()} (m2)\")\n",
    "print(f\"20번 건물의 연면적: {temp.loc[19,'total_area']} (m2)\")\n",
    "print(f\"20번 건물의 연면적은 Public 건물 평균의 {(temp.loc[19,'total_area']/temp_drop_20['total_area'].mean())}배 이다.\")\n",
    "print()\n",
    "print(f\"20번 건물을 제외한 Public 건물 냉방면적 평균: {temp_drop_20['cooling_area'].mean()} (m2)\")\n",
    "print(f\"20번 건물의 냉방면적: {temp.loc[19,'cooling_area']} (m2)\")\n",
    "print(f\"20번 건물의 냉방면적은 Public 건물 평균의 {(temp.loc[19,'cooling_area']/temp_drop_20['cooling_area'].mean())}배 이다.\")"
   ]
  },
  {
   "cell_type": "markdown",
   "id": "93874ba6",
   "metadata": {},
   "source": [
    "##### cooling_area 이상치 보정"
   ]
  },
  {
   "cell_type": "code",
   "execution_count": 11,
   "id": "9a629a84",
   "metadata": {
    "ExecuteTime": {
     "end_time": "2023-09-06T06:34:12.907503Z",
     "start_time": "2023-09-06T06:34:12.902686Z"
    },
    "scrolled": true
   },
   "outputs": [],
   "source": [
    "building_info[building_info['cooling_area']<1000]"
   ]
  },
  {
   "cell_type": "markdown",
   "id": "d17bbdb0",
   "metadata": {},
   "source": [
    "###### Apartment의 cooling_area 이상치 보정\n",
    "- 정상 Apartment의 냉방면적은 연면적의 약 80%"
   ]
  },
  {
   "cell_type": "code",
   "execution_count": 12,
   "id": "84911e73",
   "metadata": {
    "ExecuteTime": {
     "end_time": "2023-09-06T06:34:12.913783Z",
     "start_time": "2023-09-06T06:34:12.908208Z"
    },
    "scrolled": false
   },
   "outputs": [],
   "source": [
    "building_info[building_info['building_type']=='Apartment']"
   ]
  },
  {
   "cell_type": "code",
   "execution_count": 13,
   "id": "aafdc78e",
   "metadata": {
    "ExecuteTime": {
     "end_time": "2023-09-06T06:34:12.917364Z",
     "start_time": "2023-09-06T06:34:12.914499Z"
    },
    "scrolled": false
   },
   "outputs": [],
   "source": [
    "# 정상 아파트의 연면적과 냉방면적의 비율\n",
    "(building_info[building_info['building_type']=='Apartment'].cooling_area/building_info[building_info['building_type']=='Apartment'].total_area).sum()/5"
   ]
  },
  {
   "cell_type": "code",
   "execution_count": 14,
   "id": "730f937c",
   "metadata": {
    "ExecuteTime": {
     "end_time": "2023-09-06T06:34:12.924057Z",
     "start_time": "2023-09-06T06:34:12.918184Z"
    },
    "scrolled": true
   },
   "outputs": [],
   "source": [
    "# 값 보정\n",
    "for i in [64, 65, 67]:\n",
    "    building_info.loc[i,'cooling_area'] = round(building_info.loc[i,'total_area']*0.8, 2)\n",
    "building_info[building_info['building_type']=='Apartment']"
   ]
  },
  {
   "cell_type": "markdown",
   "id": "1b1b674c",
   "metadata": {},
   "source": [
    "###### Knowledge_Industry_Center의 cooling_area 이상치 보정\n",
    "- 정상 Knowledge_Industry_Center의 냉방면적은 연면적의 약 53.5%"
   ]
  },
  {
   "cell_type": "code",
   "execution_count": 15,
   "id": "8fcae263",
   "metadata": {
    "ExecuteTime": {
     "end_time": "2023-09-06T06:34:12.929946Z",
     "start_time": "2023-09-06T06:34:12.924869Z"
    }
   },
   "outputs": [],
   "source": [
    "building_info[building_info['building_type']=='Knowledge_Industry_Center']"
   ]
  },
  {
   "cell_type": "code",
   "execution_count": 16,
   "id": "8da8d794",
   "metadata": {
    "ExecuteTime": {
     "end_time": "2023-09-06T06:34:12.933738Z",
     "start_time": "2023-09-06T06:34:12.930801Z"
    }
   },
   "outputs": [],
   "source": [
    "# 정상 Knowledge_Industry_Center의 연면적과 냉방면적의 비율\n",
    "(building_info[building_info['building_type']=='Knowledge_Industry_Center'].cooling_area/building_info[building_info['building_type']=='Knowledge_Industry_Center'].total_area).sum()/6"
   ]
  },
  {
   "cell_type": "code",
   "execution_count": 17,
   "id": "f12f8281",
   "metadata": {
    "ExecuteTime": {
     "end_time": "2023-09-06T06:34:12.940469Z",
     "start_time": "2023-09-06T06:34:12.934539Z"
    }
   },
   "outputs": [],
   "source": [
    "# 값 보정\n",
    "for i in [76, 79]:\n",
    "    building_info.loc[i,'cooling_area'] = round(building_info.loc[i,'total_area']*0.535, 2)\n",
    "building_info[building_info['building_type']=='Knowledge_Industry_Center']"
   ]
  },
  {
   "cell_type": "markdown",
   "id": "ab25e034",
   "metadata": {},
   "source": [
    "### train_df\n",
    "- train 데이터 : 100개 건물들의 2022년 06월 01일부터 2022년 08월 24일까지의 데이터\n",
    "- 일시별 기온, 강수량, 풍속, 습도, 일조, 일사 정보 포함\n",
    "- 전력사용량(kWh) 포함"
   ]
  },
  {
   "cell_type": "markdown",
   "id": "4e93dc9c",
   "metadata": {},
   "source": [
    "#### column명 변환\n",
    "- train_df의 column명을 편의를 위해 영어로 대체"
   ]
  },
  {
   "cell_type": "code",
   "execution_count": 18,
   "id": "fc5b2732",
   "metadata": {
    "ExecuteTime": {
     "end_time": "2023-09-06T06:34:12.946145Z",
     "start_time": "2023-09-06T06:34:12.941323Z"
    }
   },
   "outputs": [],
   "source": [
    "# train_df의 column명을 편의를 위해 영어로 대체\n",
    "train_df = train_df.rename(columns={\n",
    "    '건물번호': 'building_number',\n",
    "    '일시': 'date_time',\n",
    "    '기온(C)': 'temperature',\n",
    "    '강수량(mm)': 'rainfall',\n",
    "    '풍속(m/s)': 'windspeed',\n",
    "    '습도(%)': 'humidity',\n",
    "    '일조(hr)': 'sunshine',\n",
    "    '일사(MJ/m2)': 'solar_radiation',\n",
    "    '전력소비량(kWh)': 'power_consumption'\n",
    "})"
   ]
  },
  {
   "cell_type": "markdown",
   "id": "8d707037",
   "metadata": {},
   "source": [
    "#### date_time 형식 변경 및 분활"
   ]
  },
  {
   "cell_type": "code",
   "execution_count": 19,
   "id": "6241a1e6",
   "metadata": {
    "ExecuteTime": {
     "end_time": "2023-09-06T06:34:12.993768Z",
     "start_time": "2023-09-06T06:34:12.947084Z"
    },
    "scrolled": false
   },
   "outputs": [],
   "source": [
    "# 형식 변경: 20220601 00 -> 2022-06-01 00:00:00\n",
    "# object -> datetime64\n",
    "train_df['date_time'] = pd.to_datetime(train_df['date_time'], format='%Y%m%d %H')\n",
    "\n",
    "# date time feature 생성\n",
    "train_df['year'] = train_df['date_time'].dt.year\n",
    "train_df['month'] = train_df['date_time'].dt.month\n",
    "train_df['day'] = train_df['date_time'].dt.day\n",
    "train_df['hour'] = train_df['date_time'].dt.hour\n",
    "train_df['day_of_week'] = train_df['date_time'].dt.dayofweek\n",
    "train_df['day_of_year'] = train_df['date_time'].dt.dayofyear\n",
    "train_df.head()"
   ]
  },
  {
   "cell_type": "markdown",
   "id": "bfbd70b3",
   "metadata": {},
   "source": [
    "#### 결측치 처리"
   ]
  },
  {
   "cell_type": "code",
   "execution_count": 20,
   "id": "a4f54160",
   "metadata": {
    "ExecuteTime": {
     "end_time": "2023-09-06T06:34:13.003010Z",
     "start_time": "2023-09-06T06:34:12.994678Z"
    },
    "scrolled": true
   },
   "outputs": [],
   "source": [
    "# 결측치 확인\n",
    "print(train_df.shape)\n",
    "train_df.isnull().sum()"
   ]
  },
  {
   "cell_type": "code",
   "execution_count": 21,
   "id": "2c4de2f0",
   "metadata": {
    "ExecuteTime": {
     "end_time": "2023-09-06T06:34:13.013131Z",
     "start_time": "2023-09-06T06:34:13.003840Z"
    }
   },
   "outputs": [],
   "source": [
    "# rainfall경우 204000행 중 약 80%인 160069행이 결측되었지만 우리나라의 비가 오는날이 안 오는늘의 80% 정도라 생각하여 0으로 채움\n",
    "train_df.fillna({\"rainfall\": 0}, inplace=True)\n",
    "train_df.isnull().sum()"
   ]
  },
  {
   "cell_type": "code",
   "execution_count": 22,
   "id": "8d9bd1fd",
   "metadata": {
    "ExecuteTime": {
     "end_time": "2023-09-06T06:34:13.036389Z",
     "start_time": "2023-09-06T06:34:13.013982Z"
    },
    "scrolled": false
   },
   "outputs": [],
   "source": [
    "# 결측치가 적은 windspeed, humidity 컬럼의 결측치릐 선행값으로 대체\n",
    "display(train_df[~(train_df['windspeed'] >= 0)])\n",
    "display(train_df[~(train_df['humidity'] >= 0)])\n",
    "train_df['windspeed'].fillna(method='ffill', axis=0, inplace=True)\n",
    "train_df['humidity'].fillna(method='ffill', axis=0, inplace=True)\n",
    "train_df.isnull().sum()"
   ]
  },
  {
   "cell_type": "code",
   "execution_count": 23,
   "id": "8dfaa5b1",
   "metadata": {
    "ExecuteTime": {
     "end_time": "2023-09-06T06:34:13.047546Z",
     "start_time": "2023-09-06T06:34:13.037314Z"
    },
    "scrolled": true
   },
   "outputs": [],
   "source": [
    "# sunshine, solar_radiation 컬름의 결측치는 밤의 경우 일조량이 없음으로 0으로 채움\n",
    "train_df.fillna({\"sunshine\": 0, 'solar_radiation':0}, inplace=True)\n",
    "train_df.isnull().sum()"
   ]
  },
  {
   "cell_type": "markdown",
   "id": "1aa33315",
   "metadata": {},
   "source": [
    "#### Data Cleaning"
   ]
  },
  {
   "cell_type": "code",
   "execution_count": 24,
   "id": "aefed439",
   "metadata": {
    "ExecuteTime": {
     "end_time": "2023-09-06T06:34:13.114517Z",
     "start_time": "2023-09-06T06:34:13.048409Z"
    }
   },
   "outputs": [],
   "source": [
    "# temperature, windspeed, humidity의 값들이 정상 범위 내에 있음을 확인\n",
    "for i in ['temperature', 'windspeed', 'humidity']:\n",
    "    print(f\"{i}의 최대값: {max(train_df[i])}\")\n",
    "    print(f\"{i}의 평균값: {np.mean(train_df[i])}\")\n",
    "    print(f\"{i}의 중위값: {np.median(train_df[i])}\")\n",
    "    print(f\"{i}의 최소값: {min(train_df[i])}\")\n",
    "    print()"
   ]
  },
  {
   "cell_type": "markdown",
   "id": "efb5af4c",
   "metadata": {},
   "source": [
    "### test_df\n",
    "- test 데이터 : 100개 건물들의 2022년 08월 25일부터 2022년 08월 31일까지의 데이터\n",
    "- 일시별 기온, 강수량, 풍속, 습도의 예보 정보"
   ]
  },
  {
   "cell_type": "markdown",
   "id": "80d39a14",
   "metadata": {},
   "source": [
    "#### column명 변환\n",
    "- test_df의 column명을 편의를 위해 영어로 대체"
   ]
  },
  {
   "cell_type": "code",
   "execution_count": 25,
   "id": "be6f5f33",
   "metadata": {
    "ExecuteTime": {
     "end_time": "2023-09-06T06:34:13.118269Z",
     "start_time": "2023-09-06T06:34:13.115459Z"
    }
   },
   "outputs": [],
   "source": [
    "# test_df의 column명을 편의를 위해 영어로 대체\n",
    "test_df = test_df.rename(columns={\n",
    "    '건물번호': 'building_number',\n",
    "    '일시': 'date_time',\n",
    "    '기온(C)': 'temperature',\n",
    "    '강수량(mm)': 'rainfall',\n",
    "    '풍속(m/s)': 'windspeed',\n",
    "    '습도(%)': 'humidity',\n",
    "    '일조(hr)': 'sunshine',\n",
    "    '일사(MJ/m2)': 'solar_radiation',\n",
    "    '전력소비량(kWh)': 'power_consumption'\n",
    "})"
   ]
  },
  {
   "cell_type": "markdown",
   "id": "c6633dff",
   "metadata": {},
   "source": [
    "#### date_time 형식 변경 및 분활"
   ]
  },
  {
   "cell_type": "code",
   "execution_count": 26,
   "id": "6b9b8060",
   "metadata": {
    "ExecuteTime": {
     "end_time": "2023-09-06T06:34:13.129409Z",
     "start_time": "2023-09-06T06:34:13.118986Z"
    },
    "scrolled": true
   },
   "outputs": [],
   "source": [
    "# 형식 변경: 20220601 00 -> 2022-06-01 00:00:00\n",
    "# object -> datetime64\n",
    "test_df['date_time'] = pd.to_datetime(test_df['date_time'], format='%Y%m%d %H')\n",
    "\n",
    "# date time feature 생성\n",
    "test_df['year'] = test_df['date_time'].dt.year\n",
    "test_df['month'] = test_df['date_time'].dt.month\n",
    "test_df['day'] = test_df['date_time'].dt.day\n",
    "test_df['hour'] = test_df['date_time'].dt.hour\n",
    "test_df['day_of_week'] = test_df['date_time'].dt.dayofweek\n",
    "test_df['day_of_year'] = test_df['date_time'].dt.dayofyear\n",
    "test_df.head()"
   ]
  },
  {
   "cell_type": "markdown",
   "id": "db92fbbd",
   "metadata": {},
   "source": [
    "#### 결측치 처리"
   ]
  },
  {
   "cell_type": "code",
   "execution_count": 27,
   "id": "ff631d62",
   "metadata": {
    "ExecuteTime": {
     "end_time": "2023-09-06T06:34:13.134347Z",
     "start_time": "2023-09-06T06:34:13.130430Z"
    }
   },
   "outputs": [],
   "source": [
    "# 결측치 확인\n",
    "print(test_df.shape)\n",
    "test_df.isnull().sum()"
   ]
  },
  {
   "cell_type": "markdown",
   "id": "a03df053",
   "metadata": {},
   "source": [
    "#### Data Cleaning"
   ]
  },
  {
   "cell_type": "code",
   "execution_count": 28,
   "id": "942eae0a",
   "metadata": {
    "ExecuteTime": {
     "end_time": "2023-09-06T06:34:13.147147Z",
     "start_time": "2023-09-06T06:34:13.138831Z"
    },
    "scrolled": false
   },
   "outputs": [],
   "source": [
    "# temperature, windspeed, humidity의 값들이 정상 범위 내에 있음을 확인\n",
    "for i in ['temperature', 'windspeed', 'humidity']:\n",
    "    print(f\"{i}의 최대값: {max(test_df[i])}\")\n",
    "    print(f\"{i}의 평균값: {np.mean(test_df[i])}\")\n",
    "    print(f\"{i}의 중위값: {np.median(test_df[i])}\")\n",
    "    print(f\"{i}의 최소값: {min(test_df[i])}\")\n",
    "    print()"
   ]
  },
  {
   "cell_type": "markdown",
   "id": "31955cdf",
   "metadata": {},
   "source": [
    "### Feature Engineering"
   ]
  },
  {
   "cell_type": "markdown",
   "id": "ff556ee2",
   "metadata": {},
   "source": [
    "#### 체감온도(WCT) feature 생성\n",
    "- 체감온도 (Wind Chill Temperature): 기온과 풍속을 고려하여 인체에 느껴지는 온도를 나타내는 지표입니다. 높은 바람이 불 때, 실제 기온보다 더 춥게 느껴질 수 있습니다."
   ]
  },
  {
   "cell_type": "code",
   "execution_count": 29,
   "id": "06fdd508",
   "metadata": {
    "ExecuteTime": {
     "end_time": "2023-09-06T06:34:13.159765Z",
     "start_time": "2023-09-06T06:34:13.148097Z"
    },
    "scrolled": true
   },
   "outputs": [],
   "source": [
    "train_df['WCT'] = 13.12 + 0.6125*train_df['temperature'] - 11.37*(train_df['windspeed'] ** 0.16) + 0.3965*(train_df['windspeed']**0.16)*train_df['temperature']\n",
    "train_df.head()"
   ]
  },
  {
   "cell_type": "code",
   "execution_count": 30,
   "id": "57e4deb9",
   "metadata": {
    "ExecuteTime": {
     "end_time": "2023-09-06T06:34:13.167622Z",
     "start_time": "2023-09-06T06:34:13.160659Z"
    },
    "scrolled": true
   },
   "outputs": [],
   "source": [
    "test_df['WCT'] = 13.12 + 0.6125*test_df['temperature'] - 11.37*(test_df['windspeed'] ** 0.16) + 0.3965*(test_df['windspeed']**0.16)*test_df['temperature']\n",
    "test_df.head()"
   ]
  },
  {
   "cell_type": "markdown",
   "id": "6c2259c3",
   "metadata": {},
   "source": [
    "#### 불쾌 지수(THI) feature 생성\n",
    "- 불쾌 지수(습도 지수) (Temperature Humidity Index): 습도와 온도를 고려하여 불쾌한 정도를 표현하는 지표입니다. 높은 습도와 높은 기온은 불쾌함을 증가시킬 수 있습니다."
   ]
  },
  {
   "cell_type": "code",
   "execution_count": 31,
   "id": "35479731",
   "metadata": {
    "ExecuteTime": {
     "end_time": "2023-09-06T06:34:13.177739Z",
     "start_time": "2023-09-06T06:34:13.168434Z"
    },
    "scrolled": false
   },
   "outputs": [],
   "source": [
    "train_df['THI'] = 9/5*train_df['temperature'] - 0.55 * (1-train_df['humidity']/100)*(9/5*train_df['humidity']-26)+32\n",
    "train_df.head()"
   ]
  },
  {
   "cell_type": "code",
   "execution_count": 32,
   "id": "9d99c8c8",
   "metadata": {
    "ExecuteTime": {
     "end_time": "2023-09-06T06:34:13.185447Z",
     "start_time": "2023-09-06T06:34:13.178605Z"
    },
    "scrolled": true
   },
   "outputs": [],
   "source": [
    "test_df['THI'] = 9/5*test_df['temperature'] - 0.55 * (1-test_df['humidity']/100)*(9/5*test_df['humidity']-26)+32\n",
    "test_df.head()"
   ]
  },
  {
   "cell_type": "markdown",
   "id": "6bf7805a",
   "metadata": {},
   "source": [
    "#### 휴일(holiday) feature 생성\n",
    ">'건물기타': 'Other_Buildings'\\\n",
    "'공공': 'Public' - 주말 전력 소비 감소\\\n",
    "'대학교': 'University' - 주말 전력 소비 감소\\\n",
    "'데이터센터': 'Data_Center' - 매일 전력 소비 일정\\\n",
    "'백화점및아울렛': 'Department_Store_and_Outlet' - 월요일 전력 소비 감소\\\n",
    "'병원': 'Hospital' - 주말 전력 소비 감소\\\n",
    "'상용': 'Commercial' - 주말 전력 소비 감소\\\n",
    "'아파트': 'Apartment' - 매일 전력 소비 일정\\\n",
    "'연구소': 'Research_Institute' - 주말 전력 소비 감소\\\n",
    "'지식산업센터': 'Knowledge_Industry_Center' - 주말 전력 소비 감소\\\n",
    "'할인마트': 'Discount_Mart' - 일요일 전력 소비 감소\\\n",
    "'호텔및리조트': 'Hotel_and_Resort' - 매일 전력 소비 일정"
   ]
  },
  {
   "cell_type": "code",
   "execution_count": 33,
   "id": "1ce7cf04",
   "metadata": {
    "ExecuteTime": {
     "end_time": "2023-09-06T06:34:13.188296Z",
     "start_time": "2023-09-06T06:34:13.186195Z"
    }
   },
   "outputs": [],
   "source": [
    "weekend = ['2022-06-04', '2022-06-05', '2022-06-11', '2022-06-12', '2022-06-18', '2022-06-19',\n",
    "           '2022-06-25', '2022-06-26', '2022-07-02', '2022-07-03', '2022-07-09', '2022-07-10',\n",
    "           '2022-07-16', '2022-07-17', '2022-07-23', '2022-07-24', '2022-07-30', '2022-07-31',\n",
    "           '2022-08-06', '2022-08-07', '2022-08-13', '2022-08-14', '2022-08-20', '2022-08-21',\n",
    "           '2022-08-27', '2022-08-28']\n",
    "holiday = ['2022-06-01', '2022-06-06', '2022-08-15'] # 지방선거일, 현충일, 광복절"
   ]
  },
  {
   "cell_type": "code",
   "execution_count": 34,
   "id": "88aa267d",
   "metadata": {
    "ExecuteTime": {
     "end_time": "2023-09-06T06:34:13.202565Z",
     "start_time": "2023-09-06T06:34:13.189172Z"
    }
   },
   "outputs": [],
   "source": [
    "# 건물정보 중 건물유형 병합\n",
    "train_df = train_df.merge(building_info[['building_number', 'building_type']], on='building_number')\n",
    "test_df = test_df.merge(building_info[['building_number', 'building_type']], on='building_number')"
   ]
  },
  {
   "cell_type": "code",
   "execution_count": 35,
   "id": "85c53631",
   "metadata": {
    "ExecuteTime": {
     "end_time": "2023-09-06T06:34:13.384931Z",
     "start_time": "2023-09-06T06:34:13.203692Z"
    },
    "scrolled": true
   },
   "outputs": [],
   "source": [
    "# 주말과 휴일을 모두 쉬는 경우\n",
    "train_df['holiday'] = 0\n",
    "\n",
    "wh = train_df.building_type.isin(['Other_Buildings', 'Public', 'University', 'Hospital', 'Commercial', 'Research_Institute', 'Knowledge_Industry_Center'])\n",
    "train_df['holiday'] = train_df[wh]['date_time'].dt.date.astype('str').isin(weekend+holiday)\n",
    "\n",
    "# 매일 전력소비 일정\n",
    "allday = train_df.building_type.isin(['Data_Center', 'Apartment', 'Hotel_and_Resort'])\n",
    "train_df['holiday'][allday] = False\n",
    "\n",
    "# 월요일 전력소비 감소\n",
    "train_df['holiday'][(train_df.building_type == 'Department_Store_and_Outlet') & (train_df['day_of_week']==0)] = True\n",
    "train_df['holiday'][(train_df.building_type == 'Department_Store_and_Outlet') & (train_df['day_of_week']!=0)] = False\n",
    "\n",
    "# 일요일 전력소비 감소\n",
    "train_df['holiday'][(train_df.building_type == 'Discount_Mart') & (train_df['day_of_week']==6)] = True\n",
    "train_df['holiday'][(train_df.building_type == 'Discount_Mart') & (train_df['day_of_week']!=6)] = False\n",
    "\n",
    "train_df.pop('building_type')\n",
    "train_df = train_df.replace({'holiday':{False: 0, True: 1}})\n",
    "train_df[train_df['holiday']==1].head()"
   ]
  },
  {
   "cell_type": "code",
   "execution_count": 36,
   "id": "90ada962",
   "metadata": {
    "ExecuteTime": {
     "end_time": "2023-09-06T06:34:13.411938Z",
     "start_time": "2023-09-06T06:34:13.385849Z"
    }
   },
   "outputs": [],
   "source": [
    "# 주말과 휴일을 모두 쉬는 경우\n",
    "test_df['holiday'] = 0\n",
    "\n",
    "wh = test_df.building_type.isin(['Other_Buildings', 'Public', 'University', 'Hospital', 'Commercial', 'Research_Institute', 'Knowledge_Industry_Center'])\n",
    "test_df['holiday'] = test_df[wh]['date_time'].dt.date.astype('str').isin(weekend+holiday)\n",
    "\n",
    "# 매일 전력소비 일정\n",
    "allday = test_df.building_type.isin(['Data_Center', 'Apartment', 'Hotel_and_Resort'])\n",
    "test_df['holiday'][allday] = False\n",
    "\n",
    "# 월요일 전력소비 감소\n",
    "test_df['holiday'][(test_df.building_type == 'Department_Store_and_Outlet') & (test_df['day_of_week']==0)] = True\n",
    "test_df['holiday'][(test_df.building_type == 'Department_Store_and_Outlet') & (test_df['day_of_week']!=0)] = False\n",
    "\n",
    "# 일요일 전력소비 감소\n",
    "test_df['holiday'][(test_df.building_type == 'Discount_Mart') & (test_df['day_of_week']==6)] = True\n",
    "test_df['holiday'][(test_df.building_type == 'Discount_Mart') & (test_df['day_of_week']!=6)] = False\n",
    "\n",
    "test_df.pop('building_type')\n",
    "test_df = test_df.replace({'holiday':{False: 0, True: 1}})\n",
    "test_df[test_df['holiday']==1].head()"
   ]
  },
  {
   "cell_type": "markdown",
   "id": "18008b8b",
   "metadata": {},
   "source": [
    "### 데이터 저장(for ML, DL)"
   ]
  },
  {
   "cell_type": "code",
   "execution_count": 37,
   "id": "9cc6c8ce",
   "metadata": {
    "ExecuteTime": {
     "end_time": "2023-09-06T06:34:13.497322Z",
     "start_time": "2023-09-06T06:34:13.412869Z"
    },
    "scrolled": false
   },
   "outputs": [],
   "source": [
    "train_df_dl = train_df.copy()\n",
    "test_df_dl = test_df.copy()\n",
    "\n",
    "# train_df와 test_df에 건물정보를 병합한 후 train_df와 test_df의 features을 동일하게 구성함 \n",
    "print('building_info')\n",
    "display(building_info.head())\n",
    "display(building_info.dtypes)\n",
    "print('-'*150)\n",
    "print('train_df_dl')\n",
    "train_df_dl = train_df_dl[['num_date_time', 'building_number', 'date_time', 'temperature',\n",
    "       'rainfall', 'windspeed', 'humidity', 'year', 'month', 'day',\n",
    "       'hour', 'day_of_week', 'day_of_year', 'WCT', 'THI', 'holiday', 'power_consumption']]\n",
    "train_df_dl = pd.merge(train_df_dl, building_info, on='building_number', how='left')\n",
    "train_df_dl = train_df_dl.drop(columns=['solar_power_capacity', 'ess_capacity', 'pcs_capacity'])\n",
    "temp = train_df_dl.pop('power_consumption')\n",
    "train_df_dl['power_consumption'] = temp\n",
    "display(train_df_dl.head())\n",
    "display(train_df_dl.dtypes)\n",
    "print('-'*150)\n",
    "print('test_df_dl')\n",
    "test_df_dl = test_df_dl[['num_date_time', 'building_number', 'date_time', 'temperature',\n",
    "       'rainfall', 'windspeed', 'humidity', 'year', 'month', 'day',\n",
    "       'hour', 'day_of_week', 'day_of_year', 'WCT', 'THI', 'holiday']]\n",
    "test_df_dl = pd.merge(test_df_dl, building_info, on='building_number', how='left')\n",
    "test_df_dl = test_df_dl.drop(columns=['solar_power_capacity', 'ess_capacity', 'pcs_capacity'])\n",
    "display(test_df_dl.head())\n",
    "display(test_df_dl.dtypes)\n",
    "\n",
    "for i, j in zip([building_info, train_df_dl, test_df_dl],['building_info', 'train_df_dl', 'test_df_dl']):\n",
    "    pd.to_pickle(i, f\"./processed_data/{j}.pkl\")\n",
    "    print(f\"{j}.pkl 저장 완료\")"
   ]
  },
  {
   "cell_type": "markdown",
   "id": "16891c18",
   "metadata": {},
   "source": [
    "## 분석"
   ]
  },
  {
   "cell_type": "markdown",
   "id": "bbdce11f",
   "metadata": {},
   "source": [
    "### 건물 기본 정보"
   ]
  },
  {
   "cell_type": "markdown",
   "id": "b345a2d7",
   "metadata": {},
   "source": [
    "- 100개의 building_number\n",
    "- 12가지 building_type\n",
    ">Other_Buildings       15\\\n",
    "Public          8\\\n",
    "University         8\\\n",
    "Department_Store_and_Outlet     8\\\n",
    "Hospital          8\\\n",
    "Commercial          8\\\n",
    "Apartment         8\\\n",
    "Research_Institute         8\\\n",
    "Knowledge_Industry_Center      8\\\n",
    "Discount_Mart        8\\\n",
    "Hotel_and_Resort      8\\\n",
    "Data_Center       5\n",
    "\n",
    "- 태양광용량(kW)(solar_power_capacity) : 태양광 발전 설비가 설치된 건물 36개소\n",
    "> 태양광을 사용하여 전력을 생산할 수 있는 능력\n",
    "\n",
    "\n",
    "- ESS 시스템 : ESS 시스템 베터리 + PCS(Power Conversion System)이 설치된 건물 5개소\n",
    "    - ESS 저장용량(kWh): (ESS 시스템 베터리 용량)\n",
    ">생산된 전기에너지를 저장하여 전력 이 필요한 시기에 사용할 수 있게 하는 에너지 솔루션\n",
    "    - PCS(Power Conversion System): ESS 내 전력변환장치 \n",
    "> PCS는 저장된 에너지를 효율적으로 변환하고 제어하는 역할\\\n",
    "PCS의 용량은 ESS에서 저장된 에너지를 공급할 수 있는 능력을 나타낸다\n",
    "\n",
    "\\* 태양광 발전 설비와 ESS 시스템이 모두 설치된 건물: 2개소"
   ]
  },
  {
   "cell_type": "code",
   "execution_count": 38,
   "id": "9e83e5f3",
   "metadata": {
    "ExecuteTime": {
     "end_time": "2023-09-06T06:34:13.503241Z",
     "start_time": "2023-09-06T06:34:13.498270Z"
    },
    "scrolled": true
   },
   "outputs": [],
   "source": [
    "# 건물수\n",
    "print(f'buildings: {len(building_info.building_number.unique())}개',end='\\n\\n')\n",
    "\n",
    "# 건물유형\n",
    "print(f'building_type {len(building_info.building_type.value_counts())}가지: \\n{building_info.building_type.value_counts()}',end='\\n\\n')\n",
    "\n",
    "# 태양광 발전 설비가 설치된 건물 36개소 \n",
    "print(f\"태양광 발전 설비가 설치된 건물: {len(building_info[building_info['solar_power_capacity'] != 0])}개소\", end='\\n\\n')\n",
    "\n",
    "# ESS 시스템이 설치된 건물 \n",
    "print(f\"ESS 시스템이 설치된 건물: {len(building_info[building_info[['ess_capacity', 'pcs_capacity']].sum(axis=1) != 0])}개소\", end='\\n\\n')\n",
    "\n",
    "# 태양광 발전 설비와 ESS 시스템이 모두 설치된 건물\n",
    "print(f\"태양광 발전 설비와 ESS시스템이 모두 설치된 건물: {len(building_info[(building_info['solar_power_capacity'] != 0) & (building_info[['ess_capacity', 'pcs_capacity']].sum(axis=1) != 0)])}개소\", end='\\n\\n')"
   ]
  },
  {
   "cell_type": "markdown",
   "id": "aacd9e8b",
   "metadata": {},
   "source": [
    "### 태양광 발전설비 설치 비율\n",
    "- 대학교, 연구소, 병원 순으로 태양광 발전설비 설치율이 높음\n",
    "- 아파트, 지식산업센터, 데이터센터에는 태양광 발전설비를 설치하지 않음"
   ]
  },
  {
   "cell_type": "code",
   "execution_count": 39,
   "id": "560e4836",
   "metadata": {
    "ExecuteTime": {
     "end_time": "2023-09-06T06:34:13.519938Z",
     "start_time": "2023-09-06T06:34:13.504072Z"
    }
   },
   "outputs": [],
   "source": [
    "# 태양광발전설비가 설치되어있는 시설 확인\n",
    "print(f\"태양광 발전설비가 설치되어있는 시설: {len(building_info[building_info['solar_power_capacity'] != 0])}개소\")\n",
    "display(building_info[building_info['solar_power_capacity'] != 0])\n",
    "\n",
    "# 건물유형별 건물 수\n",
    "building_type = building_info.value_counts('building_type')\n",
    "building_type = building_type.reset_index()\n",
    "building_type = building_type.rename(columns={'count':'buildings'})\n",
    "\n",
    "# 건물유형별 태양광발전설비가 설치되어있는 건물 수\n",
    "building_type_solar = building_info[building_info['solar_power_capacity'] != 0].value_counts('building_type')\n",
    "building_type_solar = building_type_solar.reset_index()\n",
    "building_type_solar = building_type_solar.rename(columns={'count':'solar_power_facilities'})\n",
    "\n",
    "# 건물유형별 태양광발전설비 설치 비율\n",
    "building_type_solar_rate = building_type.merge(building_type_solar, how='outer', on='building_type')\n",
    "building_type_solar_rate = building_type_solar_rate.replace(np.nan,0)\n",
    "building_type_solar_rate = building_type_solar_rate.set_index('building_type')\n",
    "building_type_solar_rate['solar_power_facilities_rate'] = (building_type_solar_rate['solar_power_facilities'] / building_type_solar_rate['buildings'])*100\n",
    "building_type_solar_rate = building_type_solar_rate.sort_values(['solar_power_facilities_rate'], ascending=False)\n",
    "\n",
    "# total 행 생성\n",
    "building_type_solar_rate.loc['total', : ] = building_type_solar_rate.iloc[:,:].sum(axis=0)\n",
    "building_type_solar_rate = building_type_solar_rate.astype('int')\n",
    "building_type_solar_rate.iloc[-1:,-1:] = np.nan\n",
    "\n",
    "display(building_type_solar_rate)"
   ]
  },
  {
   "cell_type": "code",
   "execution_count": 40,
   "id": "1303a005",
   "metadata": {
    "ExecuteTime": {
     "end_time": "2023-09-06T06:34:13.620125Z",
     "start_time": "2023-09-06T06:34:13.520824Z"
    }
   },
   "outputs": [],
   "source": [
    "plt.figure(figsize=(12,5))\n",
    "plt.bar(building_type_solar_rate.index, building_type_solar_rate['solar_power_facilities_rate'])\n",
    "plt.title('태양광 발전설비 설치율(%)', size = 20, weight='bold')\n",
    "plt.grid(True, axis='y', alpha=0.5, linestyle='--')\n",
    "plt.xlabel('건물유형', size = 15)\n",
    "plt.xticks(rotation=35)\n",
    "plt.ylabel('태양광 발전설비 설치율(%)', size = 15)\n",
    "plt.show()"
   ]
  },
  {
   "cell_type": "markdown",
   "id": "d5cf43c6",
   "metadata": {},
   "source": [
    "### Public 20번 건물의 연면적, 냉방면적 이상치 보정\n",
    "- Public 20번 건물의 평균 전력소비량은 Public 나머지 건물의 평균 전력 소비량의 120% 수준\n",
    "- 반면 데이터에서 Public 20번 건물의 연면적은 Public 나머지 건물 평균의 약 14350%\n",
    "- Public 20번 건물의 연면적과 냉방면적을 Public 건물의 평균의 120%로 보정"
   ]
  },
  {
   "cell_type": "code",
   "execution_count": 41,
   "id": "699c37f3",
   "metadata": {
    "ExecuteTime": {
     "end_time": "2023-09-06T06:34:13.775935Z",
     "start_time": "2023-09-06T06:34:13.621053Z"
    },
    "scrolled": false
   },
   "outputs": [],
   "source": [
    "temp = train_df.merge(building_info[['building_number', 'building_type']], on='building_number')\n",
    "Public_Group = temp.groupby('building_type').get_group('Public')\n",
    "\n",
    "# 20번 건물을 제외한 Public 타입 건물 크룹 생성\n",
    "Public_Group_drop_20 = Public_Group.drop(Public_Group[Public_Group['building_number']==20].index)\n",
    "display(Public_Group_drop_20)\n",
    "# Public 건물의 일별 전력 소비량 평군\n",
    "Mean_Public_drop_20_Day = Public_Group_drop_20.groupby('day_of_year').power_consumption.mean()\n",
    "\n",
    "plt.figure(figsize=(10, 3))\n",
    "plt.plot(Mean_Public_drop_20_Day.index, Mean_Public_drop_20_Day.values)\n",
    "plt.title('20번 건물을 제외한 Public 건물의 일별 전력사용량 평균', size=20)\n",
    "plt.show()\n",
    "\n",
    "# Public 20번 건물의 일별 전력 소비량 평군\n",
    "Mean_Public_20_Day = Public_Group.groupby(by=['building_number', 'day_of_year']).power_consumption.mean()\n",
    "Mean_Public_20_Day = Mean_Public_20_Day.reset_index()\n",
    "Mean_Public_20_Day = Mean_Public_20_Day.groupby('building_number').get_group(20)\n",
    "\n",
    "plt.figure(figsize=(10, 3))\n",
    "plt.plot(Mean_Public_20_Day.index, Mean_Public_20_Day.power_consumption)\n",
    "plt.title('Public 20번 건물의 일별 전력 소비량 평군', size=20)\n",
    "plt.show()"
   ]
  },
  {
   "cell_type": "markdown",
   "id": "37ff8075",
   "metadata": {},
   "source": [
    "### 상관관계 분석\n",
    "- 정도가 크지 않았지만 `power_consumption`와 `solar_radiation`, `temperature`,`WCT` 순으로 높은 상관관계를 보임"
   ]
  },
  {
   "cell_type": "code",
   "execution_count": 42,
   "id": "85b52b41",
   "metadata": {
    "ExecuteTime": {
     "end_time": "2023-09-06T06:34:13.811231Z",
     "start_time": "2023-09-06T06:34:13.776863Z"
    }
   },
   "outputs": [],
   "source": [
    "# 데이터 프레임 병합\n",
    "train_df = pd.merge(train_df, building_info, on='building_number', how='left')\n",
    "temp = train_df.pop('power_consumption')\n",
    "train_df['power_consumption'] = temp\n",
    "test_df = pd.merge(test_df, building_info, on='building_number', how='left')\n",
    "display(train_df.head(), test_df.head())"
   ]
  },
  {
   "cell_type": "code",
   "execution_count": 43,
   "id": "aa4053d3",
   "metadata": {
    "ExecuteTime": {
     "end_time": "2023-09-06T06:34:13.850533Z",
     "start_time": "2023-09-06T06:34:13.812058Z"
    }
   },
   "outputs": [],
   "source": [
    "# 사용하지 않을 컬럼 drop\n",
    "train_df_corr = train_df.copy()\n",
    "display(train_df_corr)\n",
    "train_df_corr = train_df_corr.drop(columns=['num_date_time', 'building_number', 'date_time', 'year', 'month', 'day', 'hour', 'day_of_week', 'day_of_year', 'building_type'])\n",
    "train_df_corr"
   ]
  },
  {
   "cell_type": "code",
   "execution_count": 44,
   "id": "c89b80ac",
   "metadata": {
    "ExecuteTime": {
     "end_time": "2023-09-06T06:34:14.194781Z",
     "start_time": "2023-09-06T06:34:13.851356Z"
    },
    "scrolled": false
   },
   "outputs": [],
   "source": [
    "# 상관관계 heatmap\n",
    "plt.figure(figsize=(15,8))\n",
    "sns.heatmap(data = train_df_corr.corr(), annot=True, fmt = '.2f', linewidths=.5, cmap='Blues')\n",
    "plt.title('features 상관관계', size=30)\n",
    "plt.show()"
   ]
  },
  {
   "cell_type": "markdown",
   "id": "1cc10e6d",
   "metadata": {},
   "source": [
    "### 시각화"
   ]
  },
  {
   "cell_type": "markdown",
   "id": "adc9534a",
   "metadata": {},
   "source": [
    "#### 시간당 최대, 최소 전력사용량\n",
    "- 100개의 빌딩에 전원을 정상적으로 공급하기 위해서는 최소 368310.21(kWh)이상의 전기를 공급할 수 있는 설비가 필요함\n",
    "> 2022-08-05(금) 13:00:00에 기간내 시간당 최대 전력사용량으로 368310.21(kWh)을 기록\\\n",
    " 2022-06-07(화) 03:00:00에 기간내 시간당 최소 전력사용량으로 148285.615(kWh)을 기록"
   ]
  },
  {
   "cell_type": "code",
   "execution_count": 45,
   "id": "a136831a",
   "metadata": {
    "ExecuteTime": {
     "end_time": "2023-09-06T06:34:14.360189Z",
     "start_time": "2023-09-06T06:34:14.195748Z"
    },
    "scrolled": false
   },
   "outputs": [],
   "source": [
    "시간당_전력사용량_총합 = train_df.groupby('date_time').power_consumption.sum()\n",
    "시간당_전력사용량_총합\n",
    "plt.figure(figsize=(15, 5))\n",
    "plt.plot(시간당_전력사용량_총합.index, 시간당_전력사용량_총합.values)\n",
    "plt.title('시간당_전력사용량_총합')\n",
    "plt.xlabel('시간')\n",
    "plt.ylabel('전력사용량(kWh)')\n",
    "plt.show()\n",
    "\n",
    "print(f\"시간당 최대 전력사용량: {max(시간당_전력사용량_총합)}(kWh)\")\n",
    "display(시간당_전력사용량_총합[시간당_전력사용량_총합 == max(시간당_전력사용량_총합)])\n",
    "print(f\"시간당 최소 전력사용량: {min(시간당_전력사용량_총합)}(kWh)\")\n",
    "display(시간당_전력사용량_총합[시간당_전력사용량_총합 == min(시간당_전력사용량_총합)])"
   ]
  },
  {
   "cell_type": "markdown",
   "id": "0f1916b6",
   "metadata": {},
   "source": [
    "#### 요일별 전력사용량 평균\n",
    "- 화요일에 전력사용량 평균이 가장 높음"
   ]
  },
  {
   "cell_type": "code",
   "execution_count": 46,
   "id": "ceeb5a15",
   "metadata": {
    "ExecuteTime": {
     "end_time": "2023-09-06T06:34:14.445572Z",
     "start_time": "2023-09-06T06:34:14.361048Z"
    }
   },
   "outputs": [],
   "source": [
    "요일별_전력사용량_평균 = train_df.groupby('day_of_week')['power_consumption'].mean()\n",
    "plt.figure(figsize=(15, 5))\n",
    "plt.plot(['월', '화', '수', '목', '금', '토', '일'],요일별_전력사용량_평균.values)\n",
    "plt.title('요일별 전력사용량 평균', size=20)\n",
    "plt.xlabel('요일')\n",
    "plt.ylabel('전력_사용량_평균(kWh)')\n",
    "plt.show()"
   ]
  },
  {
   "cell_type": "markdown",
   "id": "bedf1f97",
   "metadata": {},
   "source": [
    "#### 건물별_요일별_전력사용량_평균\n",
    "- '건물기타': 'Other_Buildings',\n",
    "- '공공': 'Public' - 주말 전력 소비 감소\n",
    "- '대학교': 'University' - 주말 전력 소비 감소\n",
    "- '데이터센터': 'Data_Center' - 매일 전력 소비 일정\n",
    "- '백화점및아울렛': 'Department_Store_and_Outlet' - 월요일 전력 소비 감소\n",
    "- '병원': 'Hospital' - 주말 전력 소비 감소\n",
    "- '상용': 'Commercial' - 주말 전력 소비 감소\n",
    "- '아파트': 'Apartment' - 매일 전력 소비 일정\n",
    "- '연구소': 'Research_Institute' - 주말 전력 소비 감소\n",
    "- '지식산업센터': 'Knowledge_Industry_Center' - 주말 전력 소비 감소\n",
    "- '할인마트': 'Discount_Mart' - 일요일 전력 소비 감소\n",
    "- '호텔및리조트': 'Hotel_and_Resort' - 매일 전력 소비 일정"
   ]
  },
  {
   "cell_type": "code",
   "execution_count": 47,
   "id": "b31f9a6c",
   "metadata": {
    "ExecuteTime": {
     "end_time": "2023-09-06T06:34:15.798691Z",
     "start_time": "2023-09-06T06:34:14.446418Z"
    },
    "scrolled": true
   },
   "outputs": [],
   "source": [
    "건물별_요일별_전력사용량_평균 = train_df.groupby(['building_number','building_type','day_of_week'])\n",
    "건물별_요일별_전력사용량_평균 = 건물별_요일별_전력사용량_평균.power_consumption.mean()\n",
    "\n",
    "건물별_요일별_전력사용량_평균 = 건물별_요일별_전력사용량_평균.reset_index()\n",
    "building_type_list = building_info.building_type.unique()\n",
    "요일 = ['월', '화', '수', '목', '금', '토', '일']\n",
    "\n",
    "건물별_요일별_전력사용량_평균 = 건물별_요일별_전력사용량_평균.groupby('building_number')\n",
    "건물별_요일별_전력사용량_평균.get_group(1)\n",
    "for i in building_type_list:\n",
    "    plt.figure(figsize=(15, 5))\n",
    "    for j in range(1,101):\n",
    "        if 건물별_요일별_전력사용량_평균.get_group(j).building_type.unique() == i:\n",
    "            plt.plot(요일, 건물별_요일별_전력사용량_평균.get_group(j).power_consumption, label=f\"{j}번 건물\")\n",
    "    plt.title(f'{i} 요일별 전력사용량 평균', size=20)\n",
    "    plt.xlabel(f'요일')\n",
    "    plt.ylabel(f'전력사용량 평균(kWh)')\n",
    "    plt.legend()\n",
    "    plt.show()"
   ]
  },
  {
   "cell_type": "markdown",
   "id": "05f9e4ad",
   "metadata": {},
   "source": [
    "#### 월별 건물별 전력소비량 평균\n",
    "- 2022년 8월 27번 건물이 월평균 전력소비량 평균이 가장 높음\n",
    "- 2022년 8월 66번 건물이 월평균 전력소비량 평균이 가장 낮음"
   ]
  },
  {
   "cell_type": "code",
   "execution_count": 48,
   "id": "544ebf68",
   "metadata": {
    "ExecuteTime": {
     "end_time": "2023-09-06T06:34:16.177844Z",
     "start_time": "2023-09-06T06:34:15.799482Z"
    },
    "scrolled": false
   },
   "outputs": [],
   "source": [
    "# 월별 건물별 전량 소비량 평균\n",
    "gr = train_df.groupby(['year','month','building_number']).power_consumption.mean()\n",
    "gr = gr.reset_index()\n",
    "gr = gr.merge(building_info[['building_number', 'total_area']], on='building_number')\n",
    "gr\n",
    "\n",
    "for i in [6, 7, 8]:\n",
    "    D = gr[gr.month==i]\n",
    "    plt.figure(figsize=(10, 4))\n",
    "    plt.bar(D.building_number,D.power_consumption)\n",
    "    plt.title(f'{i}월 건물별_전력_소비량_평균 ')\n",
    "    plt.xlabel('건물번호')\n",
    "    plt.ylabel('전력소비량 평균(kWh)')\n",
    "    plt.show()\n",
    "display(D[D.power_consumption == max(D.power_consumption)])\n",
    "display(D[D.power_consumption == min(D.power_consumption)])"
   ]
  },
  {
   "cell_type": "markdown",
   "id": "1c3a4aca",
   "metadata": {},
   "source": [
    "#### 월별 건물별 단위 면적당 전력소비량\n",
    "- 13번 건물의 단위 면적당 전력소비량이 가장 높음\n",
    "- 20번 건물의 단위 면적당 전력소비량이 가장 낮음"
   ]
  },
  {
   "cell_type": "code",
   "execution_count": 49,
   "id": "658139d8",
   "metadata": {
    "ExecuteTime": {
     "end_time": "2023-09-06T06:34:16.507893Z",
     "start_time": "2023-09-06T06:34:16.178758Z"
    }
   },
   "outputs": [],
   "source": [
    "# 월별 건물별 전량 소비량 평균\n",
    "gr = train_df.groupby(['year','month','building_number']).power_consumption.sum()\n",
    "gr = gr.reset_index()\n",
    "gr = gr.merge(building_info[['building_number', 'total_area']], on='building_number')\n",
    "\n",
    "for i in [6, 7, 8]:\n",
    "    D = gr[gr.month==i]\n",
    "    plt.figure(figsize=(10, 4))\n",
    "    plt.bar(D.building_number,D.power_consumption/D.total_area)\n",
    "    plt.title(f'{i}월 건물별_단위면적당_전량소비량 ')\n",
    "    plt.xlabel('건물번호')\n",
    "    plt.ylabel('단위면적당_전량소비량(kWh/m2)')\n",
    "    plt.show()\n",
    "    \n",
    "display(building_info[12:13])\n",
    "display(building_info[19:20])"
   ]
  },
  {
   "cell_type": "markdown",
   "id": "9c11ab68",
   "metadata": {},
   "source": [
    "#### 건물별 시간당 전력소비량 빈도\n",
    "- 사례의 100개 건물의 시간당 전력 사용량 약 98%는 10000kWh 이하\n",
    "> 일반적으로 한 건물에서 전력을 공급하기 위한 전력 공급 설비 용량은 10000kWh 수준으로 준비\n",
    "\n",
    "- 건물의 시간당 최대 전력소비량은 2022-07-06 15:00:00 27번 건물에서 발생한 25488.4kWh\n",
    "> 특수한 경우를 대비하여 25488.4kWh 이상의 전력 공급 설비도 대비가 필요"
   ]
  },
  {
   "cell_type": "code",
   "execution_count": 50,
   "id": "a9f7c74c",
   "metadata": {
    "ExecuteTime": {
     "end_time": "2023-09-06T06:34:16.827669Z",
     "start_time": "2023-09-06T06:34:16.508815Z"
    },
    "scrolled": false
   },
   "outputs": [],
   "source": [
    "plt.figure(figsize=(10, 6))\n",
    "sns.histplot(train_df['power_consumption'], bins=100, kde=True)\n",
    "plt.title('건물별 시간당 전력소비량 빈도')\n",
    "plt.xlabel('시간당 전력소비량(kWh)')\n",
    "plt.show()"
   ]
  },
  {
   "cell_type": "code",
   "execution_count": 51,
   "id": "46c2d6e4",
   "metadata": {
    "ExecuteTime": {
     "end_time": "2023-09-06T06:34:16.842508Z",
     "start_time": "2023-09-06T06:34:16.828507Z"
    },
    "scrolled": true
   },
   "outputs": [],
   "source": [
    "# 사례의 100개 건물의 시간당 전력 사용량 약 98%는 10000kWh 이하\n",
    "len(train_df[train_df['power_consumption']<=10000])/len(train_df)"
   ]
  },
  {
   "cell_type": "code",
   "execution_count": 52,
   "id": "be0e3c09",
   "metadata": {
    "ExecuteTime": {
     "end_time": "2023-09-06T06:34:16.859742Z",
     "start_time": "2023-09-06T06:34:16.843438Z"
    }
   },
   "outputs": [],
   "source": [
    "# 건물의 시간당 최대 전력소비량은 2022-07-06 15:00:00 27번 건물에서 발생한 25488.4kWh\n",
    "train_df[train_df['power_consumption']==max(train_df['power_consumption'])]"
   ]
  },
  {
   "cell_type": "markdown",
   "id": "821c4df2",
   "metadata": {},
   "source": [
    "#### 단위 기간별 평균 전력사용량"
   ]
  },
  {
   "cell_type": "code",
   "execution_count": 53,
   "id": "1bfb5754",
   "metadata": {
    "ExecuteTime": {
     "end_time": "2023-09-06T06:34:16.872362Z",
     "start_time": "2023-09-06T06:34:16.860473Z"
    }
   },
   "outputs": [],
   "source": [
    "# 년기준 월평균 소비전력\n",
    "mean_power_by_month = train_df.groupby('month')['power_consumption'].mean()\n",
    "\n",
    "# 일기준 시간 평균 소비전력\n",
    "mean_power_by_hour = train_df.groupby('hour')['power_consumption'].mean()\n",
    "\n",
    "# 월기준 시간 평균 소비전력\n",
    "mean_power_by_day = train_df.groupby('day')['power_consumption'].mean()\n",
    "\n",
    "# 년기준 일 평균 소비전력\n",
    "mean_power_by_day_of_year = train_df.groupby('day_of_year')['power_consumption'].mean()"
   ]
  },
  {
   "cell_type": "code",
   "execution_count": 54,
   "id": "6a64999d",
   "metadata": {
    "ExecuteTime": {
     "end_time": "2023-09-06T06:34:17.181653Z",
     "start_time": "2023-09-06T06:34:16.873138Z"
    },
    "scrolled": false
   },
   "outputs": [],
   "source": [
    "fig, axs = plt.subplots(4, 1, figsize=(10, 18))\n",
    "\n",
    "# Plot mean power consumption by hour of the day\n",
    "axs[0].plot(mean_power_by_hour.index,mean_power_by_hour.values)\n",
    "axs[0].set_title('하루 시간별 전력소비량 평균', size=20)\n",
    "axs[0].set_xlabel('시간')\n",
    "axs[0].set_ylabel('하루 시간별 전력 소비량(kWh)')\n",
    "plt.grid(True, axis='y', alpha=0.5, linestyle='--')\n",
    "\n",
    "# Plot mean power consumption by day of the month\n",
    "axs[1].plot(mean_power_by_day.index,mean_power_by_day.values*24)\n",
    "axs[1].set_title('월간 일별 전력소비량 평균', size=20)\n",
    "axs[1].set_xlabel('일')\n",
    "axs[1].set_ylabel('월간 일별 전력소비량(kWh)')\n",
    "plt.grid(True, axis='y', alpha=0.5, linestyle='--')\n",
    "\n",
    "# 년기준 월평균 소비전력\n",
    "axs[2].bar(mean_power_by_month.index,mean_power_by_month.values*24*30)\n",
    "axs[2].set_title('월별 전력소비량 평균', size=20)\n",
    "axs[2].set_xlabel('월')\n",
    "axs[2].set_ylabel('월별 전력소비량(kWh)')\n",
    "plt.grid(True, axis='y', alpha=0.5, linestyle='--')\n",
    "\n",
    "# Plot mean power consumption by hour of the day\n",
    "axs[3].plot(mean_power_by_day_of_year.index,mean_power_by_day_of_year.values*24)\n",
    "axs[3].set_title('연간 하루 전력소비량 평균', size=20)\n",
    "axs[3].set_xlabel('시간')\n",
    "axs[3].set_ylabel('하루 시간별 전력 소비량 평균(kWh)')\n",
    "\n",
    "plt.tight_layout()\n",
    "plt.show()"
   ]
  }
 ],
 "metadata": {
  "kernelspec": {
   "display_name": "Python 3 (ipykernel)",
   "language": "python",
   "name": "python3"
  },
  "language_info": {
   "codemirror_mode": {
    "name": "ipython",
    "version": 3
   },
   "file_extension": ".py",
   "mimetype": "text/x-python",
   "name": "python",
   "nbconvert_exporter": "python",
   "pygments_lexer": "ipython3",
   "version": "3.8.16"
  },
  "toc": {
   "base_numbering": 1,
   "nav_menu": {},
   "number_sections": true,
   "sideBar": true,
   "skip_h1_title": false,
   "title_cell": "Table of Contents",
   "title_sidebar": "Contents",
   "toc_cell": false,
   "toc_position": {
    "height": "968.216858px",
    "left": "28px",
    "top": "81.988976px",
    "width": "340.680145px"
   },
   "toc_section_display": true,
   "toc_window_display": true
  }
 },
 "nbformat": 4,
 "nbformat_minor": 5
}
